{
  "nbformat": 4,
  "nbformat_minor": 0,
  "metadata": {
    "colab": {
      "provenance": [],
      "gpuType": "T4"
    },
    "kernelspec": {
      "name": "python3",
      "display_name": "Python 3"
    },
    "language_info": {
      "name": "python"
    },
    "accelerator": "GPU"
  },
  "cells": [
    {
      "cell_type": "markdown",
      "source": [
        "1- preprocessing 2- lstm 3- prediction +save model 4- user query\n",
        "\n",
        "this notebook contain :\n",
        "\n",
        "1- Data preprocessing\n",
        "\n",
        "2- text preprocessing(nlp techniques )\n",
        "\n",
        "3- svc classifier\n",
        "\n",
        "4- Random forest\n",
        "\n",
        "5- lstm"
      ],
      "metadata": {
        "id": "6h2b0Y9hSJ-8"
      }
    },
    {
      "cell_type": "markdown",
      "source": [
        "This step loads the Amazon review dataset into a DataFrame.\n",
        "The dataset is in a text file where each line represents a review and its sentiment label, separated by a tab (\\t).\n",
        "Using pandas.read_csv with sep=\"\\t\", we read the data and store it in the variable df for further analysis."
      ],
      "metadata": {
        "id": "sxri2b3xrwxX"
      }
    },
    {
      "cell_type": "code",
      "execution_count": null,
      "metadata": {
        "colab": {
          "base_uri": "https://localhost:8080/"
        },
        "id": "NDfY340Gf7wI",
        "outputId": "e16b6e18-3e84-47f0-8ac5-24e2beeaa81c"
      },
      "outputs": [
        {
          "output_type": "stream",
          "name": "stdout",
          "text": [
            "Mounted at /content/drive\n"
          ]
        }
      ],
      "source": [
        "from google.colab import drive\n",
        "drive.mount('/content/drive')"
      ]
    },
    {
      "cell_type": "code",
      "source": [
        "data=\"/content/drive/MyDrive/amazon_alexa (1).tsv\""
      ],
      "metadata": {
        "id": "DlFX01NEgCSm"
      },
      "execution_count": null,
      "outputs": []
    },
    {
      "cell_type": "code",
      "source": [
        "\n",
        "import pandas as pd\n",
        "df=pd.read_csv(data,sep=\"\\t\")\n"
      ],
      "metadata": {
        "id": "WIhFaF0ng4H4"
      },
      "execution_count": null,
      "outputs": []
    },
    {
      "cell_type": "code",
      "source": [
        "print(df.head(2))"
      ],
      "metadata": {
        "colab": {
          "base_uri": "https://localhost:8080/"
        },
        "id": "0w5kheZWieLA",
        "outputId": "06fb2649-a50e-4190-d3d4-5f8545c1128a"
      },
      "execution_count": null,
      "outputs": [
        {
          "output_type": "stream",
          "name": "stdout",
          "text": [
            "   rating       date         variation verified_reviews  feedback\n",
            "0       5  31-Jul-18  Charcoal Fabric     Love my Echo!         1\n",
            "1       5  31-Jul-18  Charcoal Fabric         Loved it!         1\n"
          ]
        }
      ]
    },
    {
      "cell_type": "code",
      "source": [
        "df[\"verified_reviews\"].head(15)"
      ],
      "metadata": {
        "colab": {
          "base_uri": "https://localhost:8080/",
          "height": 554
        },
        "id": "Krx7UAzzw5et",
        "outputId": "46c35832-fbbf-4d0c-9608-7986895302bc"
      },
      "execution_count": null,
      "outputs": [
        {
          "output_type": "execute_result",
          "data": {
            "text/plain": [
              "0                                         Love my Echo!\n",
              "1                                             Loved it!\n",
              "2     Sometimes while playing a game, you can answer...\n",
              "3     I have had a lot of fun with this thing. My 4 ...\n",
              "4                                                 Music\n",
              "5     I received the echo as a gift. I needed anothe...\n",
              "6     Without having a cellphone, I cannot use many ...\n",
              "7     I think this is the 5th one I've purchased. I'...\n",
              "8                                           looks great\n",
              "9     Love it! I’ve listened to songs I haven’t hear...\n",
              "10    I sent it to my 85 year old Dad, and he talks ...\n",
              "11    I love it! Learning knew things with it eveyda...\n",
              "12    I purchased this for my mother who is having k...\n",
              "13                                   Love, Love, Love!!\n",
              "14                             Just what I expected....\n",
              "Name: verified_reviews, dtype: object"
            ],
            "text/html": [
              "<div>\n",
              "<style scoped>\n",
              "    .dataframe tbody tr th:only-of-type {\n",
              "        vertical-align: middle;\n",
              "    }\n",
              "\n",
              "    .dataframe tbody tr th {\n",
              "        vertical-align: top;\n",
              "    }\n",
              "\n",
              "    .dataframe thead th {\n",
              "        text-align: right;\n",
              "    }\n",
              "</style>\n",
              "<table border=\"1\" class=\"dataframe\">\n",
              "  <thead>\n",
              "    <tr style=\"text-align: right;\">\n",
              "      <th></th>\n",
              "      <th>verified_reviews</th>\n",
              "    </tr>\n",
              "  </thead>\n",
              "  <tbody>\n",
              "    <tr>\n",
              "      <th>0</th>\n",
              "      <td>Love my Echo!</td>\n",
              "    </tr>\n",
              "    <tr>\n",
              "      <th>1</th>\n",
              "      <td>Loved it!</td>\n",
              "    </tr>\n",
              "    <tr>\n",
              "      <th>2</th>\n",
              "      <td>Sometimes while playing a game, you can answer...</td>\n",
              "    </tr>\n",
              "    <tr>\n",
              "      <th>3</th>\n",
              "      <td>I have had a lot of fun with this thing. My 4 ...</td>\n",
              "    </tr>\n",
              "    <tr>\n",
              "      <th>4</th>\n",
              "      <td>Music</td>\n",
              "    </tr>\n",
              "    <tr>\n",
              "      <th>5</th>\n",
              "      <td>I received the echo as a gift. I needed anothe...</td>\n",
              "    </tr>\n",
              "    <tr>\n",
              "      <th>6</th>\n",
              "      <td>Without having a cellphone, I cannot use many ...</td>\n",
              "    </tr>\n",
              "    <tr>\n",
              "      <th>7</th>\n",
              "      <td>I think this is the 5th one I've purchased. I'...</td>\n",
              "    </tr>\n",
              "    <tr>\n",
              "      <th>8</th>\n",
              "      <td>looks great</td>\n",
              "    </tr>\n",
              "    <tr>\n",
              "      <th>9</th>\n",
              "      <td>Love it! I’ve listened to songs I haven’t hear...</td>\n",
              "    </tr>\n",
              "    <tr>\n",
              "      <th>10</th>\n",
              "      <td>I sent it to my 85 year old Dad, and he talks ...</td>\n",
              "    </tr>\n",
              "    <tr>\n",
              "      <th>11</th>\n",
              "      <td>I love it! Learning knew things with it eveyda...</td>\n",
              "    </tr>\n",
              "    <tr>\n",
              "      <th>12</th>\n",
              "      <td>I purchased this for my mother who is having k...</td>\n",
              "    </tr>\n",
              "    <tr>\n",
              "      <th>13</th>\n",
              "      <td>Love, Love, Love!!</td>\n",
              "    </tr>\n",
              "    <tr>\n",
              "      <th>14</th>\n",
              "      <td>Just what I expected....</td>\n",
              "    </tr>\n",
              "  </tbody>\n",
              "</table>\n",
              "</div><br><label><b>dtype:</b> object</label>"
            ]
          },
          "metadata": {},
          "execution_count": 5
        }
      ]
    },
    {
      "cell_type": "markdown",
      "source": [
        "# **Preprocessing the data**"
      ],
      "metadata": {
        "id": "mL6zdaK-yfhp"
      }
    },
    {
      "cell_type": "code",
      "source": [
        "print(f\"\\n\",df.info())\n",
        "print(f\"\\n\",df.isnull)\n",
        "print(f\"\\n data size: \",df.size)"
      ],
      "metadata": {
        "colab": {
          "base_uri": "https://localhost:8080/"
        },
        "id": "KH6SwhbBhIQ8",
        "outputId": "2876876e-68da-48b7-91b9-cd475f123d8d"
      },
      "execution_count": null,
      "outputs": [
        {
          "output_type": "stream",
          "name": "stdout",
          "text": [
            "<class 'pandas.core.frame.DataFrame'>\n",
            "RangeIndex: 3150 entries, 0 to 3149\n",
            "Data columns (total 5 columns):\n",
            " #   Column            Non-Null Count  Dtype \n",
            "---  ------            --------------  ----- \n",
            " 0   rating            3150 non-null   int64 \n",
            " 1   date              3150 non-null   object\n",
            " 2   variation         3150 non-null   object\n",
            " 3   verified_reviews  3149 non-null   object\n",
            " 4   feedback          3150 non-null   int64 \n",
            "dtypes: int64(2), object(3)\n",
            "memory usage: 123.2+ KB\n",
            "\n",
            " None\n",
            "\n",
            " <bound method DataFrame.isnull of       rating       date         variation  \\\n",
            "0          5  31-Jul-18  Charcoal Fabric    \n",
            "1          5  31-Jul-18  Charcoal Fabric    \n",
            "2          4  31-Jul-18    Walnut Finish    \n",
            "3          5  31-Jul-18  Charcoal Fabric    \n",
            "4          5  31-Jul-18  Charcoal Fabric    \n",
            "...      ...        ...               ...   \n",
            "3145       5  30-Jul-18        Black  Dot   \n",
            "3146       5  30-Jul-18        Black  Dot   \n",
            "3147       5  30-Jul-18        Black  Dot   \n",
            "3148       5  30-Jul-18        White  Dot   \n",
            "3149       4  29-Jul-18        Black  Dot   \n",
            "\n",
            "                                       verified_reviews  feedback  \n",
            "0                                         Love my Echo!         1  \n",
            "1                                             Loved it!         1  \n",
            "2     Sometimes while playing a game, you can answer...         1  \n",
            "3     I have had a lot of fun with this thing. My 4 ...         1  \n",
            "4                                                 Music         1  \n",
            "...                                                 ...       ...  \n",
            "3145  Perfect for kids, adults and everyone in betwe...         1  \n",
            "3146  Listening to music, searching locations, check...         1  \n",
            "3147  I do love these things, i have them running my...         1  \n",
            "3148  Only complaint I have is that the sound qualit...         1  \n",
            "3149                                               Good         1  \n",
            "\n",
            "[3150 rows x 5 columns]>\n",
            "\n",
            " data size:  15750\n"
          ]
        }
      ]
    },
    {
      "cell_type": "code",
      "source": [
        "df.columns"
      ],
      "metadata": {
        "colab": {
          "base_uri": "https://localhost:8080/"
        },
        "id": "JBQ-bozhxSLT",
        "outputId": "0c334e49-ab67-4ad7-aa57-fc70caaefa3d"
      },
      "execution_count": null,
      "outputs": [
        {
          "output_type": "execute_result",
          "data": {
            "text/plain": [
              "Index(['rating', 'date', 'variation', 'verified_reviews', 'feedback'], dtype='object')"
            ]
          },
          "metadata": {},
          "execution_count": 7
        }
      ]
    },
    {
      "cell_type": "markdown",
      "source": [
        "\n",
        "\n",
        "\n",
        "\n",
        "---\n",
        "\n",
        "\n",
        "\n",
        "---\n",
        "\n",
        "\n",
        "\n",
        "\"Since the dataset includes 'date' as one of its features, we will analyze and represent its effect.\"\n",
        "\n",
        "\n",
        "\n",
        "**This code creates a bar chart showing how many reviews were made each day, based on the 'date' column.**\n",
        "\n"
      ],
      "metadata": {
        "id": "wxxZK9xWtD3c"
      }
    },
    {
      "cell_type": "code",
      "source": [
        "\n",
        "import matplotlib.pyplot as plt\n",
        "df[\"date\"] = pd.to_datetime(df[\"date\"])\n",
        "date_counts = df[\"date\"].value_counts().sort_index()\n",
        "plt.figure(figsize=(12, 5))\n",
        "plt.bar(date_counts.index, date_counts.values, width=1.0)\n",
        "plt.xlabel(\"Date\")\n",
        "plt.ylabel(\"Frequency\")\n",
        "plt.title(\"Histogram of Dates\")\n",
        "plt.show()\n"
      ],
      "metadata": {
        "colab": {
          "base_uri": "https://localhost:8080/",
          "height": 542
        },
        "id": "mcb5ID1kjzdS",
        "outputId": "21101478-a5ba-41ef-c0be-15c346c26d17"
      },
      "execution_count": null,
      "outputs": [
        {
          "output_type": "stream",
          "name": "stderr",
          "text": [
            "<ipython-input-8-8af9335162ad>:2: UserWarning: Could not infer format, so each element will be parsed individually, falling back to `dateutil`. To ensure parsing is consistent and as-expected, please specify a format.\n",
            "  df[\"date\"] = pd.to_datetime(df[\"date\"])\n"
          ]
        },
        {
          "output_type": "display_data",
          "data": {
            "text/plain": [
              "<Figure size 1200x500 with 1 Axes>"
            ],
            "image/png": "[encoded data removed]"
          },
          "metadata": {}
        }
      ]
    },
    {
      "cell_type": "markdown",
      "source": [
        "**This code plots a histogram to show the distribution of sentiment classes (0 = negative, 1 = positive) in the 'feedback' column.**\n"
      ],
      "metadata": {
        "id": "UcX9sqOCtcuq"
      }
    },
    {
      "cell_type": "code",
      "source": [
        "\n",
        "plt.hist(df[\"feedback\"], edgecolor='black')\n",
        "plt.title('Class Distribution ')\n",
        "plt.xlabel('Class Label')\n",
        "plt.ylabel('Frequency')\n",
        "plt.xticks([0, 1])\n",
        "plt.show()"
      ],
      "metadata": {
        "colab": {
          "base_uri": "https://localhost:8080/",
          "height": 472
        },
        "id": "ssn9OHUWJzEQ",
        "outputId": "584cd0e3-b6b6-45c7-f27b-9d57937b3819"
      },
      "execution_count": null,
      "outputs": [
        {
          "output_type": "display_data",
          "data": {
            "text/plain": [
              "<Figure size 640x480 with 1 Axes>"
            ],
            "image/png": "[encoded data removed]"
          },
          "metadata": {}
        }
      ]
    },
    {
      "cell_type": "code",
      "source": [
        "#تغيير مسمى فقط\n",
        "df[\"reviews\"]=df[\"verified_reviews\"]"
      ],
      "metadata": {
        "id": "B1LdUlFKiU5W"
      },
      "execution_count": null,
      "outputs": []
    },
    {
      "cell_type": "markdown",
      "source": [
        "# **Preprocessing the text**\n",
        "1-Handle missing data (pd.isna).\n",
        "\n",
        "2-Check if the text contains only emojis.\n",
        "\n",
        "3-Convert text to lowercase.\n",
        "\n",
        "4-Remove special characters and numbers but keep emojis.\n",
        "\n",
        "5-Tokenize the text.\n",
        "\n",
        "6-Handle negation in the tokenized words.\n",
        "\n",
        "7-Remove stopwords.\n",
        "\n",
        "8-Lemmatize words.\n",
        "\n",
        "9-Reconstruct text with emojis.\n",
        "\n",
        "10-Detokenize the final tokens into a sentence.\n",
        "\n",
        "11- lowercasing\n",
        "\n",
        "12 - marks\n"
      ],
      "metadata": {
        "id": "gwcEx5HuyWvU"
      }
    },
    {
      "cell_type": "code",
      "source": [
        "!pip install emoji"
      ],
      "metadata": {
        "colab": {
          "base_uri": "https://localhost:8080/"
        },
        "id": "YHqZa7jLF7He",
        "outputId": "0e721af7-1621-4b7b-a1d1-87878171651b"
      },
      "execution_count": null,
      "outputs": [
        {
          "output_type": "stream",
          "name": "stdout",
          "text": [
            "Collecting emoji\n",
            "  Downloading emoji-2.14.1-py3-none-any.whl.metadata (5.7 kB)\n",
            "Downloading emoji-2.14.1-py3-none-any.whl (590 kB)\n",
            "\u001b[2K   \u001b[90m━━━━━━━━━━━━━━━━━━━━━━━━━━━━━━━━━━━━━━━━\u001b[0m \u001b[32m590.6/590.6 kB\u001b[0m \u001b[31m7.3 MB/s\u001b[0m eta \u001b[36m0:00:00\u001b[0m\n",
            "\u001b[?25hInstalling collected packages: emoji\n",
            "Successfully installed emoji-2.14.1\n"
          ]
        }
      ]
    },
    {
      "cell_type": "code",
      "source": [
        "import nltk\n",
        "import re\n",
        "import spacy\n",
        "import pandas as pd\n",
        "from nltk.corpus import stopwords\n",
        "from nltk.tokenize import word_tokenize\n",
        "from nltk.tokenize.treebank import TreebankWordDetokenizer\n",
        "\n",
        "nltk.download('punkt')\n",
        "nltk.download('stopwords')\n",
        "nltk.download('punkt_tab')\n",
        "\n",
        "nlp = spacy.load(\"en_core_web_sm\")"
      ],
      "metadata": {
        "colab": {
          "base_uri": "https://localhost:8080/"
        },
        "id": "WAvB8xU35MZc",
        "outputId": "49d92a0a-5f98-4e80-91e5-720aa4cc7bb3"
      },
      "execution_count": null,
      "outputs": [
        {
          "output_type": "stream",
          "name": "stderr",
          "text": [
            "[nltk_data] Downloading package punkt to /root/nltk_data...\n",
            "[nltk_data]   Unzipping tokenizers/punkt.zip.\n",
            "[nltk_data] Downloading package stopwords to /root/nltk_data...\n",
            "[nltk_data]   Unzipping corpora/stopwords.zip.\n",
            "[nltk_data] Downloading package punkt_tab to /root/nltk_data...\n",
            "[nltk_data]   Unzipping tokenizers/punkt_tab.zip.\n"
          ]
        }
      ]
    },
    {
      "cell_type": "markdown",
      "source": [
        "2-Check if the text contains only emojis.\n"
      ],
      "metadata": {
        "id": "F4UV1IgiQaYf"
      }
    },
    {
      "cell_type": "markdown",
      "source": [
        " In our dataset, we have three types of reviews:\n",
        " 1. Text-only reviews (e.g., \"I love this product.\")\n",
        " 2. Text with emojis (e.g., \"This is amazing 😍\")\n",
        " 3. Emoji-only reviews (e.g., \"😍😂👍\")\n",
        "\n"
      ],
      "metadata": {
        "id": "d5legkR5TemQ"
      }
    },
    {
      "cell_type": "code",
      "source": [
        "def is_emoji_only(text):\n",
        "    return all(char in emoji.EMOJI_DATA for char in text.strip())\n",
        "\n"
      ],
      "metadata": {
        "id": "BSD5O-8S5Mb0"
      },
      "execution_count": null,
      "outputs": []
    },
    {
      "cell_type": "code",
      "source": [
        "import emoji\n",
        "import pandas as pd\n",
        "\n",
        "# Define a function to check if a review contains an emoji using the emoji library\n",
        "def contains_emoji(text):\n",
        "    if isinstance(text, str):  # Check if the text is a string\n",
        "        return any(char in emoji.EMOJI_DATA for char in text)\n",
        "    return False  # Return False if the text is not a string (like NaN or numeric)\n",
        "\n",
        "# Filter the reviews containing emojis from the 'verified_reviews' column\n",
        "df_with_emojis = df[df['verified_reviews'].apply(contains_emoji)]\n",
        "\n",
        "# Display the reviews containing emojis\n",
        "print(\"Reviews containing emojis:\")\n",
        "print(df_with_emojis[['verified_reviews']])\n",
        "\n"
      ],
      "metadata": {
        "colab": {
          "base_uri": "https://localhost:8080/"
        },
        "id": "qusQtYUd69si",
        "outputId": "c62c68e6-9cba-4449-e6e6-24d78448ce73"
      },
      "execution_count": null,
      "outputs": [
        {
          "output_type": "stream",
          "name": "stdout",
          "text": [
            "Reviews containing emojis:\n",
            "                                       verified_reviews\n",
            "49    No different than Apple. To play a specific li...\n",
            "60                                                    😍\n",
            "134                                  So far I like it 🤓\n",
            "229   Best thing I've invested in in a while thank y...\n",
            "447   Works perfect no wear and tear on the device I...\n",
            "541   Well I’m a big fan of echoes these ones went I...\n",
            "681   Seems to have trouble hearing me when I say th...\n",
            "684   I bought this for a family member as a gift. I...\n",
            "744   No different than Apple. To play a specific li...\n",
            "755                                                   😍\n",
            "829                                  So far I like it 🤓\n",
            "924   Best thing I've invested in in a while thank y...\n",
            "1101  It was a gift and the recipient love love love...\n",
            "1160  This is our first step into a smart home. Soon...\n",
            "1237  I am a small business owner with no staff. Wit...\n",
            "1238  Bedroom clock , ask questions,  weather report...\n",
            "1351  The echo spot is really great. I just got it a...\n",
            "1399  I’m not sure why or how Amazonia asking me abo...\n",
            "1544  Love it! Easy setup and I can ‘Drop in’ on my ...\n",
            "1692                                                 👍🏻\n",
            "2012  I was suppose to get the “free” lightbulb with...\n",
            "2044         Love, Love, Love my Amazon Echo Plus!!❤️❤️\n",
            "2253                                              ⭐⭐⭐⭐⭐\n",
            "2274  My 90 year old Mom LOVES that she can watch th...\n",
            "2314  Ordered 2 on deal day. 1 doesn’t work and 2 nd...\n",
            "2343  This is my 2nd fire TV stick with Alexa I have...\n",
            "2345  It offers hours of entertainment and it was ve...\n",
            "2436                                                 😄😄\n",
            "2678  Alexa is perfect for people like me living alo...\n",
            "3029  Alexa is perfect for people like me living alo...\n"
          ]
        }
      ]
    },
    {
      "cell_type": "markdown",
      "source": [
        "**This function merges negation words with the word immediately following them to preserve the negative meaning**\n"
      ],
      "metadata": {
        "id": "J1qifsPMuoyh"
      }
    },
    {
      "cell_type": "code",
      "source": [
        "import nltk\n",
        "\n",
        "nltk.download('stopwords')\n",
        "\n",
        "def handle_negation(tokens):\n",
        "\n",
        "    negation_words = {\"not\", \"no\", \"never\", \"n't\", \"none\", \"nobody\", \"nothing\", \"neither\", \"nor\"}\n",
        "\n",
        "    new_tokens = []\n",
        "    skip = False\n",
        "\n",
        "    for i in range(len(tokens)):\n",
        "        if skip:\n",
        "            skip = False\n",
        "            continue\n",
        "\n",
        "        if tokens[i] in negation_words and i + 1 < len(tokens):\n",
        "            new_tokens.append(tokens[i] + \"_\" + tokens[i + 1])\n",
        "            skip = True\n",
        "        else:\n",
        "            new_tokens.append(tokens[i])\n",
        "\n",
        "    return new_tokens\n"
      ],
      "metadata": {
        "colab": {
          "base_uri": "https://localhost:8080/"
        },
        "id": "C0x-ha8S55zI",
        "outputId": "b38acdf9-78bf-4806-c42f-7d95dea9bb20"
      },
      "execution_count": null,
      "outputs": [
        {
          "output_type": "stream",
          "name": "stderr",
          "text": [
            "[nltk_data] Downloading package stopwords to /root/nltk_data...\n",
            "[nltk_data]   Package stopwords is already up-to-date!\n"
          ]
        }
      ]
    },
    {
      "cell_type": "markdown",
      "source": [
        " **This function converts emojis in the text into their descriptive names using the 'emoji' library**\n"
      ],
      "metadata": {
        "id": "Xe431u0kvBp3"
      }
    },
    {
      "cell_type": "code",
      "source": [
        "import emoji\n",
        "\n",
        "def emoji_to_text(text):\n",
        "    return emoji.demojize(text)\n",
        "\n",
        "#Example of conversion\n",
        "text = \" 😍😊\"\n",
        "converted_text = emoji_to_text(text)\n",
        "print(converted_text)\n",
        "\n",
        "\n",
        "\n"
      ],
      "metadata": {
        "colab": {
          "base_uri": "https://localhost:8080/"
        },
        "id": "u8HqU06G8Wuu",
        "outputId": "652b4af3-4e2e-44b2-a9af-b66810d7b818"
      },
      "execution_count": null,
      "outputs": [
        {
          "output_type": "stream",
          "name": "stdout",
          "text": [
            " :smiling_face_with_heart-eyes::smiling_face_with_smiling_eyes:\n"
          ]
        }
      ]
    },
    {
      "cell_type": "code",
      "source": [
        "def preprocess_text(text):\n",
        "  #Dealing with empty values\n",
        "    if pd.isna(text):\n",
        "        return \"\"\n",
        "#If the text consists only of emojis, it returns it as is (after removing the spaces)\n",
        "    if is_emoji_only(text):\n",
        "        return text.strip()\n",
        "### 11-preprocessing\n",
        "    text = text.lower()\n",
        "\n",
        "    text = re.sub(r\"[^\\w\\s]\", \"\", text)\n",
        "    text = \"\".join([char for char in text if char.isalpha() or emoji.is_emoji(char) or char.isspace()])\n",
        "\n",
        "    # ((Tokenization))\n",
        "    tokens = word_tokenize(text)\n",
        "\n",
        "    #  negation\n",
        "    tokens = handle_negation(tokens)\n",
        "\n",
        "    # Remove stopwords\n",
        "    stop_words = set(stopwords.words(\"english\"))\n",
        "    tokens = [word for word in tokens if word not in stop_words]\n",
        "\n",
        "    # Lemmatization\n",
        "\n",
        "    text_without_emojis = \" \".join([word for word in tokens if not emoji.is_emoji(word)])\n",
        "    text_lemmatized = [token.lemma_ for token in nlp(text_without_emojis)]\n",
        "    final_tokens = text_lemmatized + [word for word in tokens if emoji.is_emoji(word)]\n",
        "    return TreebankWordDetokenizer().detokenize(final_tokens)\n"
      ],
      "metadata": {
        "id": "FrSG8Xze5Mlr"
      },
      "execution_count": null,
      "outputs": []
    },
    {
      "cell_type": "markdown",
      "source": [
        "**This line applies both preprocessing and emoji-to-text conversion to each review in the 'reviews' column**\n"
      ],
      "metadata": {
        "id": "H5oyisGLwp27"
      }
    },
    {
      "cell_type": "code",
      "source": [
        "df[\"reviews\"] = df[\"reviews\"].apply(lambda x: emoji_to_text(preprocess_text(x)))\n"
      ],
      "metadata": {
        "id": "zcgv7oUzHXty"
      },
      "execution_count": null,
      "outputs": []
    },
    {
      "cell_type": "code",
      "source": [
        "df[\"reviews\"].head(15)"
      ],
      "metadata": {
        "colab": {
          "base_uri": "https://localhost:8080/"
        },
        "id": "2_QpEfZcHaO9",
        "outputId": "03818939-94ed-45fc-d63d-ad6bab77110e"
      },
      "execution_count": null,
      "outputs": [
        {
          "output_type": "execute_result",
          "data": {
            "text/plain": [
              "0                                             love echo\n",
              "1                                                  love\n",
              "2     sometimes play game answer question correctly ...\n",
              "3     lot fun thing yr old learn dinosaur control li...\n",
              "4                                                 music\n",
              "5     receive echo gift need another bluetooth somet...\n",
              "6     without cellphone not_use many feature ipad no...\n",
              "7     think th one I ve purchase I m work get one ev...\n",
              "8                                            look great\n",
              "9     love I ve listen song have not hear since chil...\n",
              "10                    send year old dad talk constantly\n",
              "11    love learning know thing eveyday still figure ...\n",
              "12    purchase mother knee problem give something tr...\n",
              "13                                       love love love\n",
              "14                                               expect\n",
              "Name: reviews, dtype: object"
            ],
            "text/html": [
              "<div>\n",
              "<style scoped>\n",
              "    .dataframe tbody tr th:only-of-type {\n",
              "        vertical-align: middle;\n",
              "    }\n",
              "\n",
              "    .dataframe tbody tr th {\n",
              "        vertical-align: top;\n",
              "    }\n",
              "\n",
              "    .dataframe thead th {\n",
              "        text-align: right;\n",
              "    }\n",
              "</style>\n",
              "<table border=\"1\" class=\"dataframe\">\n",
              "  <thead>\n",
              "    <tr style=\"text-align: right;\">\n",
              "      <th></th>\n",
              "      <th>reviews</th>\n",
              "    </tr>\n",
              "  </thead>\n",
              "  <tbody>\n",
              "    <tr>\n",
              "      <th>0</th>\n",
              "      <td>love echo</td>\n",
              "    </tr>\n",
              "    <tr>\n",
              "      <th>1</th>\n",
              "      <td>love</td>\n",
              "    </tr>\n",
              "    <tr>\n",
              "      <th>2</th>\n",
              "      <td>sometimes play game answer question correctly ...</td>\n",
              "    </tr>\n",
              "    <tr>\n",
              "      <th>3</th>\n",
              "      <td>lot fun thing yr old learn dinosaur control li...</td>\n",
              "    </tr>\n",
              "    <tr>\n",
              "      <th>4</th>\n",
              "      <td>music</td>\n",
              "    </tr>\n",
              "    <tr>\n",
              "      <th>5</th>\n",
              "      <td>receive echo gift need another bluetooth somet...</td>\n",
              "    </tr>\n",
              "    <tr>\n",
              "      <th>6</th>\n",
              "      <td>without cellphone not_use many feature ipad no...</td>\n",
              "    </tr>\n",
              "    <tr>\n",
              "      <th>7</th>\n",
              "      <td>think th one I ve purchase I m work get one ev...</td>\n",
              "    </tr>\n",
              "    <tr>\n",
              "      <th>8</th>\n",
              "      <td>look great</td>\n",
              "    </tr>\n",
              "    <tr>\n",
              "      <th>9</th>\n",
              "      <td>love I ve listen song have not hear since chil...</td>\n",
              "    </tr>\n",
              "    <tr>\n",
              "      <th>10</th>\n",
              "      <td>send year old dad talk constantly</td>\n",
              "    </tr>\n",
              "    <tr>\n",
              "      <th>11</th>\n",
              "      <td>love learning know thing eveyday still figure ...</td>\n",
              "    </tr>\n",
              "    <tr>\n",
              "      <th>12</th>\n",
              "      <td>purchase mother knee problem give something tr...</td>\n",
              "    </tr>\n",
              "    <tr>\n",
              "      <th>13</th>\n",
              "      <td>love love love</td>\n",
              "    </tr>\n",
              "    <tr>\n",
              "      <th>14</th>\n",
              "      <td>expect</td>\n",
              "    </tr>\n",
              "  </tbody>\n",
              "</table>\n",
              "</div><br><label><b>dtype:</b> object</label>"
            ]
          },
          "metadata": {},
          "execution_count": 19
        }
      ]
    },
    {
      "cell_type": "markdown",
      "source": [
        "\n",
        "\n",
        "---\n",
        "\n",
        "\n",
        "# **⭕Handling Imbalance Classes:**\n",
        "\n",
        "\n",
        "---\n",
        "\n",
        "\n"
      ],
      "metadata": {
        "id": "tKwWaaoLkkIH"
      }
    },
    {
      "cell_type": "code",
      "source": [
        "pip install imblearn"
      ],
      "metadata": {
        "colab": {
          "base_uri": "https://localhost:8080/"
        },
        "id": "aZXnO9efLCrN",
        "outputId": "3a8e68a0-e98c-4d5b-c9a8-50531bdfae57"
      },
      "execution_count": null,
      "outputs": [
        {
          "output_type": "stream",
          "name": "stdout",
          "text": [
            "Collecting imblearn\n",
            "  Downloading imblearn-0.0-py2.py3-none-any.whl.metadata (355 bytes)\n",
            "Requirement already satisfied: imbalanced-learn in /usr/local/lib/python3.11/dist-packages (from imblearn) (0.13.0)\n",
            "Requirement already satisfied: numpy<3,>=1.24.3 in /usr/local/lib/python3.11/dist-packages (from imbalanced-learn->imblearn) (2.0.2)\n",
            "Requirement already satisfied: scipy<2,>=1.10.1 in /usr/local/lib/python3.11/dist-packages (from imbalanced-learn->imblearn) (1.14.1)\n",
            "Requirement already satisfied: scikit-learn<2,>=1.3.2 in /usr/local/lib/python3.11/dist-packages (from imbalanced-learn->imblearn) (1.6.1)\n",
            "Requirement already satisfied: sklearn-compat<1,>=0.1 in /usr/local/lib/python3.11/dist-packages (from imbalanced-learn->imblearn) (0.1.3)\n",
            "Requirement already satisfied: joblib<2,>=1.1.1 in /usr/local/lib/python3.11/dist-packages (from imbalanced-learn->imblearn) (1.4.2)\n",
            "Requirement already satisfied: threadpoolctl<4,>=2.0.0 in /usr/local/lib/python3.11/dist-packages (from imbalanced-learn->imblearn) (3.6.0)\n",
            "Downloading imblearn-0.0-py2.py3-none-any.whl (1.9 kB)\n",
            "Installing collected packages: imblearn\n",
            "Successfully installed imblearn-0.0\n"
          ]
        }
      ]
    },
    {
      "cell_type": "markdown",
      "source": [
        "\n",
        "\n",
        "---\n",
        "\n",
        "\n",
        "# **Original Class Counts ▶**\n",
        "\n",
        "\n",
        "---\n",
        "\n"
      ],
      "metadata": {
        "id": "v_U3Rrtmi0Hm"
      }
    },
    {
      "cell_type": "code",
      "source": [
        "X = df[\"reviews\"]\n",
        "y = df[\"feedback\"]\n",
        "\n",
        "\n",
        "\n",
        "print(\"Original class counts:\")\n",
        "print(y.value_counts())"
      ],
      "metadata": {
        "colab": {
          "base_uri": "https://localhost:8080/"
        },
        "id": "_juk17M9iHQs",
        "outputId": "7773687c-eaab-4f3f-e7b8-fa322b039a27"
      },
      "execution_count": null,
      "outputs": [
        {
          "output_type": "stream",
          "name": "stdout",
          "text": [
            "Original class counts:\n",
            "feedback\n",
            "1    2893\n",
            "0     257\n",
            "Name: count, dtype: int64\n"
          ]
        }
      ]
    },
    {
      "cell_type": "markdown",
      "source": [
        "\n",
        "\n",
        "---\n",
        "\n",
        "\n",
        "# Handle imbalance ▶ **OVER Sampling**\n",
        "\n",
        "**This code balances the dataset using random oversampling by increasing the minority class to match the size of the majority class.**\n",
        "\n",
        "\n",
        "---\n",
        "\n",
        "\n"
      ],
      "metadata": {
        "id": "tE5o-RQBxSdc"
      }
    },
    {
      "cell_type": "code",
      "source": [
        "from imblearn.over_sampling import RandomOverSampler\n",
        "\n",
        "X_O = df[\"reviews\"]\n",
        "y_O = df[\"feedback\"]\n",
        "\n",
        "# Oversampling to balance the class\n",
        "Over_sampler = RandomOverSampler(sampling_strategy='auto', random_state=42)\n",
        "X_resampled, y_resampled = Over_sampler.fit_resample(X_O.values.reshape(-1, 1), y_O)\n",
        "\n",
        "print(\"Balanced class counts (Over Sampling):\")\n",
        "print(y_resampled.value_counts())"
      ],
      "metadata": {
        "colab": {
          "base_uri": "https://localhost:8080/"
        },
        "id": "caouQHZCK_q0",
        "outputId": "e147ebd9-4969-4e27-dff4-cd0d74691deb"
      },
      "execution_count": null,
      "outputs": [
        {
          "output_type": "stream",
          "name": "stdout",
          "text": [
            "Balanced class counts (Over Sampling):\n",
            "feedback\n",
            "1    2893\n",
            "0    2893\n",
            "Name: count, dtype: int64\n"
          ]
        }
      ]
    },
    {
      "cell_type": "markdown",
      "source": [
        "\n",
        "\n",
        "---\n",
        "\n",
        "\n",
        "# Handle imbalance ▶ **UNDER Sampling**\n",
        "\n",
        "**This code balances the dataset using random undersampling by reducing the majority class to match the size of the minority class.**\n",
        "\n",
        "\n",
        "---\n",
        "\n",
        "\n"
      ],
      "metadata": {
        "id": "yZgul9DVkLxr"
      }
    },
    {
      "cell_type": "code",
      "source": [
        "# Handle the imbalanced class with undersampling\n",
        "from imblearn.under_sampling import RandomUnderSampler\n",
        "\n",
        "X_U = df[\"reviews\"]\n",
        "y_U = df[\"feedback\"]\n",
        "\n",
        "# Apply undersampling to balance the class\n",
        "Under_sampler = RandomUnderSampler(sampling_strategy='auto', random_state=42)\n",
        "X_underesampled, y_underesampled = Under_sampler.fit_resample(X_U.values.reshape(-1, 1), y_U)\n",
        "\n",
        "\n",
        "\n",
        "print(\"Balanced class counts (Under Sampling):\")\n",
        "\n",
        "print(y_underesampled.value_counts())\n"
      ],
      "metadata": {
        "colab": {
          "base_uri": "https://localhost:8080/"
        },
        "id": "-h0LKWVqVfH1",
        "outputId": "3c8433e9-2bb1-498d-c85a-7e0899b1ef48"
      },
      "execution_count": null,
      "outputs": [
        {
          "output_type": "stream",
          "name": "stdout",
          "text": [
            "Balanced class counts (Under Sampling):\n",
            "feedback\n",
            "0    257\n",
            "1    257\n",
            "Name: count, dtype: int64\n"
          ]
        }
      ]
    },
    {
      "cell_type": "markdown",
      "source": [
        "\n",
        "\n",
        "---\n",
        "\n",
        "\n",
        "# **⭕Splitting**\n",
        "\n",
        "\n",
        "---\n",
        "\n"
      ],
      "metadata": {
        "id": "KxDHnTQ5lNQH"
      }
    },
    {
      "cell_type": "markdown",
      "source": [
        "**splits the dataset into training and testing sets (85% train, 15% test)**\n",
        "\n",
        "\n",
        "The 1 in the ouput means ▶ using one feature ( \"reviews\") for training."
      ],
      "metadata": {
        "id": "0I3uwoUCxn_0"
      }
    },
    {
      "cell_type": "markdown",
      "source": [
        "\n",
        "\n",
        "\n",
        "# **⏬Splitting with Normal**"
      ],
      "metadata": {
        "id": "5ic4CmgqZCZo"
      }
    },
    {
      "cell_type": "code",
      "source": [
        "from sklearn.model_selection import train_test_split\n",
        "\n",
        "\n",
        "X_train, X_test, y_train, y_test = train_test_split(df[\"reviews\"], df[\"feedback\"], test_size=0.15, random_state=42)\n",
        "\n",
        "print(f\"X_train shape: {X_train.shape}\")\n",
        "print(f\"X_test shape: {X_test.shape}\")\n",
        "print(f\"y_train shape: {y_train.shape}\")\n",
        "print(f\"y_test shape: {y_test.shape}\")\n",
        "\n",
        "\n"
      ],
      "metadata": {
        "colab": {
          "base_uri": "https://localhost:8080/"
        },
        "id": "CJrDFm15H69O",
        "outputId": "490b5c98-dcde-4c91-9225-cc179e384d4a"
      },
      "execution_count": null,
      "outputs": [
        {
          "output_type": "stream",
          "name": "stdout",
          "text": [
            "X_train shape: (2677,)\n",
            "X_test shape: (473,)\n",
            "y_train shape: (2677,)\n",
            "y_test shape: (473,)\n"
          ]
        }
      ]
    },
    {
      "cell_type": "markdown",
      "source": [
        "#**⏬Splitting with OverSampling**"
      ],
      "metadata": {
        "id": "-VNGHbkSYjPo"
      }
    },
    {
      "cell_type": "code",
      "source": [
        "from sklearn.model_selection import train_test_split\n",
        "\n",
        "X_Otrain, X_Otest, y_Otrain, y_Otest = train_test_split(X_resampled, y_resampled, test_size=0.15, random_state=42)\n",
        "\n",
        "print(f\"X_train shape: {X_Otrain.shape}\")\n",
        "print(f\"X_test shape: {X_Otest.shape}\")\n",
        "print(f\"y_train shape: {y_Otrain.shape}\")\n",
        "print(f\"y_test shape: {y_Otest.shape}\")"
      ],
      "metadata": {
        "colab": {
          "base_uri": "https://localhost:8080/"
        },
        "id": "0sGkzXT8lexi",
        "outputId": "5cde42b0-93f7-474d-dfef-8a5019b52e2a"
      },
      "execution_count": null,
      "outputs": [
        {
          "output_type": "stream",
          "name": "stdout",
          "text": [
            "X_train shape: (4918, 1)\n",
            "X_test shape: (868, 1)\n",
            "y_train shape: (4918,)\n",
            "y_test shape: (868,)\n"
          ]
        }
      ]
    },
    {
      "cell_type": "markdown",
      "source": [
        "# **⏬Splitting with UnderSampling**"
      ],
      "metadata": {
        "id": "JH2fXU3hZCJH"
      }
    },
    {
      "cell_type": "code",
      "source": [
        "X_Utrain, X_Utest, y_Utrain, y_Utest = train_test_split(X_underesampled, y_underesampled, test_size=0.15, random_state=42)\n",
        "\n",
        "print(f\"X_train shape: {X_Utrain.shape}\")\n",
        "print(f\"X_test shape: {X_Utest.shape}\")\n",
        "print(f\"y_train shape: {y_Utrain.shape}\")\n",
        "print(f\"y_test shape: {y_Utest.shape}\")"
      ],
      "metadata": {
        "colab": {
          "base_uri": "https://localhost:8080/"
        },
        "id": "Pct6x3RRWIhw",
        "outputId": "718a1ed3-b794-4e68-b1ad-b593ba3a5520"
      },
      "execution_count": null,
      "outputs": [
        {
          "output_type": "stream",
          "name": "stdout",
          "text": [
            "X_train shape: (436, 1)\n",
            "X_test shape: (78, 1)\n",
            "y_train shape: (436,)\n",
            "y_test shape: (78,)\n"
          ]
        }
      ]
    },
    {
      "cell_type": "markdown",
      "source": [
        "\n",
        "\n",
        "\n",
        "\n",
        "---\n",
        "\n",
        "\n",
        "\n",
        "---\n",
        "\n",
        "# **⭕Classification**\n",
        "\n",
        "\n",
        "\n",
        "---\n",
        "\n",
        "\n",
        "\n",
        "---\n",
        "\n"
      ],
      "metadata": {
        "id": "nJKp2_AVmdcT"
      }
    },
    {
      "cell_type": "markdown",
      "source": [
        "#Train SVC classifier (**Original**)\n"
      ],
      "metadata": {
        "id": "AI_ES3miCXOF"
      }
    },
    {
      "cell_type": "code",
      "source": [
        "from sklearn.svm import SVC\n",
        "from sklearn.feature_extraction.text import TfidfVectorizer\n",
        "\n",
        "vectorizer = TfidfVectorizer(max_features=5000)\n",
        "X_train_tfidf = vectorizer.fit_transform(X_train)\n",
        "X_test_tfidf = vectorizer.transform(X_test)\n",
        "\n",
        "# Step 3: Train the SVC model\n",
        "svc_model = SVC(kernel='linear')  # Linear kernel is suitable for text data\n",
        "svc_model.fit(X_train_tfidf, y_train)\n",
        "\n",
        "# Step 4: Make predictions\n",
        "y_pred = svc_model.predict(X_test_tfidf)\n",
        "\n"
      ],
      "metadata": {
        "id": "zLNuMOoHu5W3"
      },
      "execution_count": null,
      "outputs": []
    },
    {
      "cell_type": "code",
      "source": [
        "# Step 5: Evaluate the model\n",
        "from sklearn.metrics import accuracy_score, classification_report\n",
        "accuracy = accuracy_score(y_test, y_pred)\n",
        "print(f\"Accuracy: {accuracy:.4f}\")\n",
        "print(\"Classification Report:\")\n",
        "print(classification_report(y_test, y_pred))"
      ],
      "metadata": {
        "colab": {
          "base_uri": "https://localhost:8080/"
        },
        "id": "7DyyZGRWvNMV",
        "outputId": "65079b61-a6b3-4890-d7e0-4d18e99826f0"
      },
      "execution_count": null,
      "outputs": [
        {
          "output_type": "stream",
          "name": "stdout",
          "text": [
            "Accuracy: 0.9218\n",
            "Classification Report:\n",
            "              precision    recall  f1-score   support\n",
            "\n",
            "           0       1.00      0.20      0.33        46\n",
            "           1       0.92      1.00      0.96       427\n",
            "\n",
            "    accuracy                           0.92       473\n",
            "   macro avg       0.96      0.60      0.64       473\n",
            "weighted avg       0.93      0.92      0.90       473\n",
            "\n"
          ]
        }
      ]
    },
    {
      "cell_type": "markdown",
      "source": [
        "#Train SVC classifier (**Undersampling**)\n"
      ],
      "metadata": {
        "id": "SEQKWPu4o6Ic"
      }
    },
    {
      "cell_type": "code",
      "source": [
        "\n",
        "X_Utrain_flat = X_Utrain.ravel()\n",
        "X_Utest_flat = X_Utest.ravel()\n",
        "\n",
        "vectorizer = TfidfVectorizer(max_features=5000)\n",
        "X_train_tfidf = vectorizer.fit_transform(X_Utrain_flat)\n",
        "X_test_tfidf = vectorizer.transform(X_Utest_flat)\n",
        "\n",
        "# 4. Train SVM classifier\n",
        "\n",
        "svm_model = SVC(kernel='linear')\n",
        "svm_model.fit(X_train_tfidf, y_Utrain)\n",
        "\n",
        "# 5. Predict and evaluate\n",
        "y_Upred = svm_model.predict(X_test_tfidf)"
      ],
      "metadata": {
        "id": "88quz2eZoFHM"
      },
      "execution_count": null,
      "outputs": []
    },
    {
      "cell_type": "markdown",
      "source": [
        "# Metrices"
      ],
      "metadata": {
        "id": "udWmmR2wnNNi"
      }
    },
    {
      "cell_type": "code",
      "source": [
        "\n",
        "accuracy_U = accuracy_score(y_Utest, y_Upred)\n",
        "print(f\"\\n Accuracy: {accuracy_U:.4f}\")\n",
        "\n",
        "print(\"\\nClassification Report:\")\n",
        "print(classification_report(y_Utest, y_Upred))"
      ],
      "metadata": {
        "colab": {
          "base_uri": "https://localhost:8080/"
        },
        "id": "WqFh_XLKohBw",
        "outputId": "ce9b0251-6ca7-4ea9-d0c5-e3d170191c93"
      },
      "execution_count": null,
      "outputs": [
        {
          "output_type": "stream",
          "name": "stdout",
          "text": [
            "\n",
            " Accuracy: 0.7821\n",
            "\n",
            "Classification Report:\n",
            "              precision    recall  f1-score   support\n",
            "\n",
            "           0       0.80      0.85      0.82        46\n",
            "           1       0.76      0.69      0.72        32\n",
            "\n",
            "    accuracy                           0.78        78\n",
            "   macro avg       0.78      0.77      0.77        78\n",
            "weighted avg       0.78      0.78      0.78        78\n",
            "\n"
          ]
        }
      ]
    },
    {
      "cell_type": "markdown",
      "source": [
        "#Train SVC classifier (**Oversampling**)\n"
      ],
      "metadata": {
        "id": "QFPnNtFjm0lt"
      }
    },
    {
      "cell_type": "code",
      "source": [
        "from sklearn.svm import SVC\n",
        "from sklearn.feature_extraction.text import TfidfVectorizer\n",
        "\n",
        "# Flatten the arrays from 2D to 1D to make them compatible with TfidfVectorizer, which expects a list of strings\n",
        "X_Otrain_flat = X_Otrain.ravel()\n",
        "X_Otest_flat = X_Otest.ravel()\n",
        "\n",
        "# Convert the text reviews into numerical feature vectors using TF-IDF to prepare them for machine learning\n",
        "vectorizer = TfidfVectorizer(max_features=5000)\n",
        "X_Otrain_tfidf = vectorizer.fit_transform(X_Otrain_flat)\n",
        "X_Otest_tfidf = vectorizer.transform(X_Otest_flat)\n",
        "\n",
        "# 4. Train SVM classifier\n",
        "\n",
        "svm_model = SVC(kernel='linear')\n",
        "svm_model.fit(X_Otrain_tfidf, y_Otrain)\n",
        "\n",
        "# 5. Predict and evaluate\n",
        "y_Opred = svm_model.predict(X_Otest_tfidf)\n",
        "\n",
        "\n"
      ],
      "metadata": {
        "id": "fd4qO9E-fWWW"
      },
      "execution_count": null,
      "outputs": []
    },
    {
      "cell_type": "code",
      "source": [
        "\n",
        "from sklearn.metrics import accuracy_score, classification_report\n",
        "accuracy_O = accuracy_score(y_Otest, y_Opred)\n",
        "print(f\"\\n Accuracy: {accuracy_O:.4f}\")\n",
        "\n",
        "print(\"\\nClassification R eport:\")\n",
        "print(classification_report(y_Otest, y_Opred))"
      ],
      "metadata": {
        "colab": {
          "base_uri": "https://localhost:8080/"
        },
        "id": "2UKGK6R_nKij",
        "outputId": "558cb5ed-bf52-4b92-e083-0b6ac3b35bd1"
      },
      "execution_count": null,
      "outputs": [
        {
          "output_type": "stream",
          "name": "stdout",
          "text": [
            "\n",
            " Accuracy: 0.9412\n",
            "\n",
            "Classification R eport:\n",
            "              precision    recall  f1-score   support\n",
            "\n",
            "           0       0.95      0.92      0.94       406\n",
            "           1       0.93      0.96      0.95       462\n",
            "\n",
            "    accuracy                           0.94       868\n",
            "   macro avg       0.94      0.94      0.94       868\n",
            "weighted avg       0.94      0.94      0.94       868\n",
            "\n"
          ]
        }
      ]
    },
    {
      "cell_type": "markdown",
      "source": [
        "# Metrices"
      ],
      "metadata": {
        "id": "aBAHs0FupEP0"
      }
    },
    {
      "cell_type": "code",
      "source": [
        "import matplotlib.pyplot as plt\n",
        "\n",
        "# Accuracy values\n",
        "names = ['Original', 'Oversampling', 'Undersampling']\n",
        "values = [accuracy, accuracy_O, accuracy_U]\n",
        "\n",
        "# Plot\n",
        "plt.figure(figsize=(8, 4))\n",
        "bars = plt.barh(names, values, color=['skyblue', 'lightgreen', 'salmon'])\n",
        "\n",
        "# Add value labels to bars\n",
        "for bar in bars:\n",
        "    plt.text(bar.get_width() + 0.01, bar.get_y() + bar.get_height()/2,\n",
        "             f\"{bar.get_width():.2f}\", va='center')\n",
        "\n",
        "plt.xlabel('Accuracy')\n",
        "plt.title('Comparison of Accuracy: Original vs Oversampling vs Undersampling')\n",
        "plt.xlim(0, 1)\n",
        "plt.grid(axis='x', linestyle='--', alpha=0.5)\n",
        "plt.tight_layout()\n",
        "plt.show()\n"
      ],
      "metadata": {
        "colab": {
          "base_uri": "https://localhost:8080/"
        },
        "id": "8Mk2IhUsvseu",
        "outputId": "3929a1fc-213f-48af-cc82-bbbcecc6c4aa"
      },
      "execution_count": null,
      "outputs": [
        {
          "output_type": "display_data",
          "data": {
            "text/plain": [
              "<Figure size 800x400 with 1 Axes>"
            ],
            "image/png": "[encoded data removed]"
          },
          "metadata": {}
        }
      ]
    },
    {
      "cell_type": "markdown",
      "source": [
        "# **SVC Confusion Matrix (OverSampling)**\n",
        "\n",
        "\n",
        "\n",
        "\n",
        "\n"
      ],
      "metadata": {
        "id": "2Q6FMQVTxjhB"
      }
    },
    {
      "cell_type": "code",
      "source": [
        "import seaborn as sns\n",
        "from sklearn.metrics import confusion_matrix\n",
        "\n",
        "cm = confusion_matrix(y_Otest, y_Opred)\n",
        "\n",
        "plt.figure(figsize=(6,5))\n",
        "sns.heatmap(cm, annot=True, fmt='d', cmap='Blues')\n",
        "plt.xlabel(\"Predicted Label\")\n",
        "plt.ylabel(\"True Label\")\n",
        "plt.title(\"Confusion Matrix - SVM\")\n",
        "plt.show()"
      ],
      "metadata": {
        "colab": {
          "base_uri": "https://localhost:8080/"
        },
        "id": "wczGESbPwJlR",
        "outputId": "a993cd9a-1f3f-40f3-d4db-68c257440731"
      },
      "execution_count": null,
      "outputs": [
        {
          "output_type": "display_data",
          "data": {
            "text/plain": [
              "<Figure size 600x500 with 2 Axes>"
            ],
            "image/png": "[encoded data removed]"
          },
          "metadata": {}
        }
      ]
    },
    {
      "cell_type": "markdown",
      "source": [
        "# **SVC Confusion Matrix (original)**"
      ],
      "metadata": {
        "id": "pH3qLkOZkvAR"
      }
    },
    {
      "cell_type": "code",
      "source": [
        "import matplotlib.pyplot as plt\n",
        "import seaborn as sns\n",
        "from sklearn.metrics import confusion_matrix\n",
        "\n",
        "cm = confusion_matrix(y_test, y_pred)\n",
        "\n",
        "plt.figure(figsize=(6,5))\n",
        "sns.heatmap(cm, annot=True, fmt='d', cmap='Blues')\n",
        "plt.xlabel(\"Predicted Label\")\n",
        "plt.ylabel(\"True Label\")\n",
        "plt.title(\"Confusion Matrix - SVM\")\n",
        "plt.show()\n"
      ],
      "metadata": {
        "colab": {
          "base_uri": "https://localhost:8080/"
        },
        "id": "Y9YKFNgS6L16",
        "outputId": "5086ce80-aa83-4652-defc-ac6d96f76caa"
      },
      "execution_count": null,
      "outputs": [
        {
          "output_type": "display_data",
          "data": {
            "text/plain": [
              "<Figure size 600x500 with 2 Axes>"
            ],
            "image/png": "[encoded data removed]"
          },
          "metadata": {}
        }
      ]
    },
    {
      "cell_type": "code",
      "source": [
        "import joblib\n",
        "joblib.dump(vectorizer, \"vectorizer.pkl\")\n",
        "joblib.dump(svm_model, \"svm_model.pkl\")\n"
      ],
      "metadata": {
        "colab": {
          "base_uri": "https://localhost:8080/"
        },
        "id": "kP6xK5gl9Prk",
        "outputId": "a091c81a-0c7e-4b57-b8f9-63f863460791"
      },
      "execution_count": null,
      "outputs": [
        {
          "output_type": "execute_result",
          "data": {
            "text/plain": [
              "['svm_model.pkl']"
            ]
          },
          "metadata": {},
          "execution_count": 36
        }
      ]
    },
    {
      "cell_type": "markdown",
      "source": [
        "# **RandomForest Classifier**(**Oversampling**)\n"
      ],
      "metadata": {
        "id": "-ViYOnmmeU3-"
      }
    },
    {
      "cell_type": "code",
      "source": [
        "# RandomForest\n",
        "from sklearn.feature_extraction.text import TfidfVectorizer\n",
        "from sklearn.metrics import accuracy_score, classification_report\n",
        "from sklearn.ensemble import RandomForestClassifier\n",
        "#Convert text to features using TF-IDF + N-grams\n",
        "X_Otrain_flat = X_Otrain.ravel()\n",
        "X_Otest_flat = X_Otest.ravel()\n",
        "\n",
        "# Convert text to features using TF-IDF + N-grams\n",
        "vectorizer = TfidfVectorizer(max_features=5000, ngram_range=(1, 2))\n",
        "X_Otrain_tfidf = vectorizer.fit_transform(X_Otrain_flat)\n",
        "X_Otest_tfidf = vectorizer.transform(X_Otest_flat)\n",
        "\n",
        "\n",
        "\n",
        "rf_model = RandomForestClassifier(n_estimators=200, random_state=42)\n",
        "rf_model.fit(X_Otrain_tfidf, y_Otrain)\n",
        "\n",
        "y_Opred_rf = rf_model.predict(X_Otest_tfidf)\n",
        "\n",
        "accuracy_rf_O = accuracy_score(y_Otest, y_Opred_rf)\n",
        "print(f\"Random Forest Accuracy: {accuracy_rf_O}\")\n",
        "\n",
        "print(\"Classification Report:\")\n",
        "print(classification_report(y_Otest, y_Opred_rf))"
      ],
      "metadata": {
        "colab": {
          "base_uri": "https://localhost:8080/"
        },
        "id": "AnlZ4XOrxyO1",
        "outputId": "90d21527-a06a-4533-86c6-8f6387ef3065"
      },
      "execution_count": null,
      "outputs": [
        {
          "output_type": "stream",
          "name": "stdout",
          "text": [
            "Random Forest Accuracy: 0.9769585253456221\n",
            "Classification Report:\n",
            "              precision    recall  f1-score   support\n",
            "\n",
            "           0       0.95      1.00      0.98       406\n",
            "           1       1.00      0.96      0.98       462\n",
            "\n",
            "    accuracy                           0.98       868\n",
            "   macro avg       0.98      0.98      0.98       868\n",
            "weighted avg       0.98      0.98      0.98       868\n",
            "\n"
          ]
        }
      ]
    },
    {
      "cell_type": "markdown",
      "source": [
        "# **RandomForest Classifier**(**Original**)\n"
      ],
      "metadata": {
        "id": "bNVLc9d4Dmde"
      }
    },
    {
      "cell_type": "code",
      "source": [
        "# RandomForest\n",
        "from sklearn.feature_extraction.text import TfidfVectorizer\n",
        "from sklearn.metrics import accuracy_score, classification_report\n",
        "from sklearn.ensemble import RandomForestClassifier\n",
        "#Convert text to features using TF-IDF + N-grams\n",
        "vectorizer = TfidfVectorizer(max_features=5000,ngram_range=(1,2))\n",
        "X_train_tfidf = vectorizer.fit_transform(X_train)\n",
        "X_test_tfidf = vectorizer.transform(X_test)\n",
        "\n",
        "\n",
        "rf_model = RandomForestClassifier(n_estimators=200, random_state=42)\n",
        "rf_model.fit(X_train_tfidf, y_train)\n",
        "\n",
        "y_pred_rf = rf_model.predict(X_test_tfidf)\n",
        "\n",
        "accuracy_rf = accuracy_score(y_test, y_pred_rf)\n",
        "print(f\"Random Forest Accuracy: {accuracy_rf}\")\n",
        "\n",
        "print(\"Classification Report:\")\n",
        "print(classification_report(y_test, y_pred_rf))"
      ],
      "metadata": {
        "id": "fTlG1vvoeQ8a",
        "colab": {
          "base_uri": "https://localhost:8080/"
        },
        "outputId": "5a29e827-f3b4-4855-d104-e519b0e0b8cb"
      },
      "execution_count": null,
      "outputs": [
        {
          "output_type": "stream",
          "name": "stdout",
          "text": [
            "Random Forest Accuracy: 0.9386892177589852\n",
            "Classification Report:\n",
            "              precision    recall  f1-score   support\n",
            "\n",
            "           0       0.95      0.39      0.55        46\n",
            "           1       0.94      1.00      0.97       427\n",
            "\n",
            "    accuracy                           0.94       473\n",
            "   macro avg       0.94      0.69      0.76       473\n",
            "weighted avg       0.94      0.94      0.93       473\n",
            "\n"
          ]
        }
      ]
    },
    {
      "cell_type": "markdown",
      "source": [
        "**Comparison of Accuracy**"
      ],
      "metadata": {
        "id": "_F4kTLqZDwAa"
      }
    },
    {
      "cell_type": "code",
      "source": [
        "names = ['Original', 'Oversampling']\n",
        "values = [accuracy_rf, accuracy_rf_O]\n",
        "\n",
        "# Plot\n",
        "plt.figure(figsize=(8, 4))\n",
        "bars = plt.barh(names, values, color=['skyblue', 'lightgreen'])\n",
        "\n",
        "# Add value labels to bars\n",
        "for bar in bars:\n",
        "    plt.text(bar.get_width() + 0.01, bar.get_y() + bar.get_height()/2,\n",
        "             f\"{bar.get_width():.2f}\", va='center')\n",
        "\n",
        "plt.xlabel('Accuracy')\n",
        "plt.title('Comparison of Accuracy: Original vs Oversampling ')\n",
        "plt.xlim(0, 1)\n",
        "plt.grid(axis='x', linestyle='--', alpha=0.5)\n",
        "plt.tight_layout()\n",
        "plt.show()"
      ],
      "metadata": {
        "colab": {
          "base_uri": "https://localhost:8080/"
        },
        "id": "OF-QFFmdy1jh",
        "outputId": "5719f08e-223f-4a31-9565-920f4961f89b"
      },
      "execution_count": null,
      "outputs": [
        {
          "output_type": "display_data",
          "data": {
            "text/plain": [
              "<Figure size 800x400 with 1 Axes>"
            ],
            "image/png": "[encoded data removed]"
          },
          "metadata": {}
        }
      ]
    },
    {
      "cell_type": "markdown",
      "source": [
        "Confusion Matrix - Random Forest(**Original**)\n",
        "\n",
        "---\n",
        "\n"
      ],
      "metadata": {
        "id": "LDXStG-aEcZg"
      }
    },
    {
      "cell_type": "code",
      "source": [
        "import matplotlib.pyplot as plt\n",
        "import seaborn as sns\n",
        "from sklearn.metrics import confusion_matrix\n",
        "\n",
        "cm = confusion_matrix(y_test, y_pred_rf)\n",
        "\n",
        "plt.figure(figsize=(8,6))\n",
        "sns.heatmap(cm, annot=True, fmt='d', cmap='Blues')\n",
        "plt.xlabel('Predicted Labels')\n",
        "plt.ylabel('True Labels')\n",
        "plt.title('Confusion Matrix - Random Forest')\n",
        "plt.show()\n",
        "\n",
        "\n"
      ],
      "metadata": {
        "colab": {
          "base_uri": "https://localhost:8080/"
        },
        "id": "Qnl5QLWVsWWX",
        "outputId": "896a8e78-90dd-4219-8083-64616b8e9b3a"
      },
      "execution_count": null,
      "outputs": [
        {
          "output_type": "display_data",
          "data": {
            "text/plain": [
              "<Figure size 800x600 with 2 Axes>"
            ],
            "image/png": "[encoded data removed]"
          },
          "metadata": {}
        }
      ]
    },
    {
      "cell_type": "markdown",
      "source": [
        "Confusion Matrix - Random Forest(**Oversampling**)\n"
      ],
      "metadata": {
        "id": "bkCDIEWQE2iF"
      }
    },
    {
      "cell_type": "code",
      "source": [
        "cm = confusion_matrix(y_Otest, y_Opred_rf)\n",
        "\n",
        "plt.figure(figsize=(8,6))\n",
        "sns.heatmap(cm, annot=True, fmt='d', cmap='Blues')\n",
        "plt.xlabel('Predicted Labels')\n",
        "plt.ylabel('True Labels')\n",
        "plt.title('Confusion Matrix - Random Forest')\n",
        "plt.show()\n"
      ],
      "metadata": {
        "colab": {
          "base_uri": "https://localhost:8080/"
        },
        "id": "u35lTunDzgRg",
        "outputId": "d6d983d1-8496-45a1-f640-bb6312e35296"
      },
      "execution_count": null,
      "outputs": [
        {
          "output_type": "display_data",
          "data": {
            "text/plain": [
              "<Figure size 800x600 with 2 Axes>"
            ],
            "image/png": "[encoded data removed]"
          },
          "metadata": {}
        }
      ]
    },
    {
      "cell_type": "code",
      "source": [
        "import joblib\n",
        "joblib.dump(rf_model, \"rf_model.pkl\")\n",
        "joblib.dump(vectorizer, \"vectorizer.pkl\")\n"
      ],
      "metadata": {
        "colab": {
          "base_uri": "https://localhost:8080/"
        },
        "id": "9VA628m79ugA",
        "outputId": "70b5be1d-5e7b-4ec9-9752-32f88e6f212a"
      },
      "execution_count": null,
      "outputs": [
        {
          "output_type": "execute_result",
          "data": {
            "text/plain": [
              "['vectorizer.pkl']"
            ]
          },
          "metadata": {},
          "execution_count": 42
        }
      ]
    },
    {
      "cell_type": "markdown",
      "source": [
        "# **LSTM**\n"
      ],
      "metadata": {
        "id": "855ieTIHNi2m"
      }
    },
    {
      "cell_type": "code",
      "source": [
        "pip install tensorflow"
      ],
      "metadata": {
        "colab": {
          "base_uri": "https://localhost:8080/"
        },
        "id": "FNZ3aF8giE1X",
        "outputId": "1fe98284-f051-4f8b-ebd5-8d1d69669637"
      },
      "execution_count": null,
      "outputs": [
        {
          "output_type": "stream",
          "name": "stdout",
          "text": [
            "Requirement already satisfied: tensorflow in /usr/local/lib/python3.11/dist-packages (2.18.0)\n",
            "Requirement already satisfied: absl-py>=1.0.0 in /usr/local/lib/python3.11/dist-packages (from tensorflow) (1.4.0)\n",
            "Requirement already satisfied: astunparse>=1.6.0 in /usr/local/lib/python3.11/dist-packages (from tensorflow) (1.6.3)\n",
            "Requirement already satisfied: flatbuffers>=24.3.25 in /usr/local/lib/python3.11/dist-packages (from tensorflow) (25.2.10)\n",
            "Requirement already satisfied: gast!=0.5.0,!=0.5.1,!=0.5.2,>=0.2.1 in /usr/local/lib/python3.11/dist-packages (from tensorflow) (0.6.0)\n",
            "Requirement already satisfied: google-pasta>=0.1.1 in /usr/local/lib/python3.11/dist-packages (from tensorflow) (0.2.0)\n",
            "Requirement already satisfied: libclang>=13.0.0 in /usr/local/lib/python3.11/dist-packages (from tensorflow) (18.1.1)\n",
            "Requirement already satisfied: opt-einsum>=2.3.2 in /usr/local/lib/python3.11/dist-packages (from tensorflow) (3.4.0)\n",
            "Requirement already satisfied: packaging in /usr/local/lib/python3.11/dist-packages (from tensorflow) (24.2)\n",
            "Requirement already satisfied: protobuf!=4.21.0,!=4.21.1,!=4.21.2,!=4.21.3,!=4.21.4,!=4.21.5,<6.0.0dev,>=3.20.3 in /usr/local/lib/python3.11/dist-packages (from tensorflow) (5.29.4)\n",
            "Requirement already satisfied: requests<3,>=2.21.0 in /usr/local/lib/python3.11/dist-packages (from tensorflow) (2.32.3)\n",
            "Requirement already satisfied: setuptools in /usr/local/lib/python3.11/dist-packages (from tensorflow) (75.2.0)\n",
            "Requirement already satisfied: six>=1.12.0 in /usr/local/lib/python3.11/dist-packages (from tensorflow) (1.17.0)\n",
            "Requirement already satisfied: termcolor>=1.1.0 in /usr/local/lib/python3.11/dist-packages (from tensorflow) (3.0.1)\n",
            "Requirement already satisfied: typing-extensions>=3.6.6 in /usr/local/lib/python3.11/dist-packages (from tensorflow) (4.13.2)\n",
            "Requirement already satisfied: wrapt>=1.11.0 in /usr/local/lib/python3.11/dist-packages (from tensorflow) (1.17.2)\n",
            "Requirement already satisfied: grpcio<2.0,>=1.24.3 in /usr/local/lib/python3.11/dist-packages (from tensorflow) (1.71.0)\n",
            "Requirement already satisfied: tensorboard<2.19,>=2.18 in /usr/local/lib/python3.11/dist-packages (from tensorflow) (2.18.0)\n",
            "Requirement already satisfied: keras>=3.5.0 in /usr/local/lib/python3.11/dist-packages (from tensorflow) (3.8.0)\n",
            "Requirement already satisfied: numpy<2.1.0,>=1.26.0 in /usr/local/lib/python3.11/dist-packages (from tensorflow) (2.0.2)\n",
            "Requirement already satisfied: h5py>=3.11.0 in /usr/local/lib/python3.11/dist-packages (from tensorflow) (3.13.0)\n",
            "Requirement already satisfied: ml-dtypes<0.5.0,>=0.4.0 in /usr/local/lib/python3.11/dist-packages (from tensorflow) (0.4.1)\n",
            "Requirement already satisfied: tensorflow-io-gcs-filesystem>=0.23.1 in /usr/local/lib/python3.11/dist-packages (from tensorflow) (0.37.1)\n",
            "Requirement already satisfied: wheel<1.0,>=0.23.0 in /usr/local/lib/python3.11/dist-packages (from astunparse>=1.6.0->tensorflow) (0.45.1)\n",
            "Requirement already satisfied: rich in /usr/local/lib/python3.11/dist-packages (from keras>=3.5.0->tensorflow) (13.9.4)\n",
            "Requirement already satisfied: namex in /usr/local/lib/python3.11/dist-packages (from keras>=3.5.0->tensorflow) (0.0.8)\n",
            "Requirement already satisfied: optree in /usr/local/lib/python3.11/dist-packages (from keras>=3.5.0->tensorflow) (0.15.0)\n",
            "Requirement already satisfied: charset-normalizer<4,>=2 in /usr/local/lib/python3.11/dist-packages (from requests<3,>=2.21.0->tensorflow) (3.4.1)\n",
            "Requirement already satisfied: idna<4,>=2.5 in /usr/local/lib/python3.11/dist-packages (from requests<3,>=2.21.0->tensorflow) (3.10)\n",
            "Requirement already satisfied: urllib3<3,>=1.21.1 in /usr/local/lib/python3.11/dist-packages (from requests<3,>=2.21.0->tensorflow) (2.3.0)\n",
            "Requirement already satisfied: certifi>=2017.4.17 in /usr/local/lib/python3.11/dist-packages (from requests<3,>=2.21.0->tensorflow) (2025.1.31)\n",
            "Requirement already satisfied: markdown>=2.6.8 in /usr/local/lib/python3.11/dist-packages (from tensorboard<2.19,>=2.18->tensorflow) (3.8)\n",
            "Requirement already satisfied: tensorboard-data-server<0.8.0,>=0.7.0 in /usr/local/lib/python3.11/dist-packages (from tensorboard<2.19,>=2.18->tensorflow) (0.7.2)\n",
            "Requirement already satisfied: werkzeug>=1.0.1 in /usr/local/lib/python3.11/dist-packages (from tensorboard<2.19,>=2.18->tensorflow) (3.1.3)\n",
            "Requirement already satisfied: MarkupSafe>=2.1.1 in /usr/local/lib/python3.11/dist-packages (from werkzeug>=1.0.1->tensorboard<2.19,>=2.18->tensorflow) (3.0.2)\n",
            "Requirement already satisfied: markdown-it-py>=2.2.0 in /usr/local/lib/python3.11/dist-packages (from rich->keras>=3.5.0->tensorflow) (3.0.0)\n",
            "Requirement already satisfied: pygments<3.0.0,>=2.13.0 in /usr/local/lib/python3.11/dist-packages (from rich->keras>=3.5.0->tensorflow) (2.18.0)\n",
            "Requirement already satisfied: mdurl~=0.1 in /usr/local/lib/python3.11/dist-packages (from markdown-it-py>=2.2.0->rich->keras>=3.5.0->tensorflow) (0.1.2)\n"
          ]
        }
      ]
    },
    {
      "cell_type": "code",
      "source": [
        "from tensorflow.keras.preprocessing.text import Tokenizer\n",
        "from tensorflow.keras.preprocessing.sequence import pad_sequences\n",
        "\n",
        "# Flatten the text arrays to 1D if needed\n",
        "X_Otrain_flat = X_Otrain.ravel()\n",
        "X_Otest_flat = X_Otest.ravel()\n",
        "\n",
        "# Step 1: Tokenize the text\n",
        "tokenizer = Tokenizer(num_words=5000, oov_token=\"<OOV>\")\n",
        "tokenizer.fit_on_texts(X_Otrain_flat)\n",
        "\n",
        "# Step 2: Convert texts to sequences\n",
        "train_sequences = tokenizer.texts_to_sequences(X_Otrain_flat)\n",
        "test_sequences = tokenizer.texts_to_sequences(X_Otest_flat)\n",
        "\n",
        "# Step 3: Pad sequences\n",
        "max_len = max(len(seq) for seq in train_sequences)  # or a fixed number like 100\n",
        "X_train_pad = pad_sequences(train_sequences, maxlen=max_len, padding='post', truncating='post')\n",
        "X_test_pad = pad_sequences(test_sequences, maxlen=max_len, padding='post', truncating='post')\n",
        "\n",
        "# Final shapes\n",
        "print(f\"X_train shape: {X_train_pad.shape}\")\n",
        "print(f\"X_test shape: {X_test_pad.shape}\")\n",
        "print(f\"y_train shape: {y_Otrain.shape}\")\n",
        "print(f\"y_test shape: {y_Otest.shape}\")\n"
      ],
      "metadata": {
        "colab": {
          "base_uri": "https://localhost:8080/"
        },
        "id": "hx6Cqdll0-YF",
        "outputId": "c933c729-8fe6-4e44-9182-7ebb120a5e78"
      },
      "execution_count": null,
      "outputs": [
        {
          "output_type": "stream",
          "name": "stdout",
          "text": [
            "X_train shape: (4918, 260)\n",
            "X_test shape: (868, 260)\n",
            "y_train shape: (4918,)\n",
            "y_test shape: (868,)\n"
          ]
        }
      ]
    },
    {
      "cell_type": "code",
      "source": [
        "import tensorflow as tf\n",
        "from tensorflow import keras\n",
        "\n",
        "# model initialization\n",
        "from tensorflow.keras.models import Sequential\n",
        "from tensorflow.keras.layers import Embedding, LSTM, Dense, Bidirectional,Dropout\n",
        "vocab_size = 5000\n",
        "embedding_dim = 64\n",
        "\n",
        "model = keras.Sequential([\n",
        "    keras.layers.Embedding(vocab_size, embedding_dim, input_length=max_len),\n",
        "    keras.layers.Bidirectional(keras.layers.LSTM(64)),\n",
        "    keras.layers.Dense(24, activation='relu'),\n",
        "    Dropout(0.5),\n",
        "    keras.layers.Dense(1, activation='sigmoid')\n",
        "\n",
        "])\n",
        "# compile model\n",
        "model.compile(loss='binary_crossentropy',\n",
        "              optimizer='adam',\n",
        "              metrics=['accuracy'])\n",
        "# model summary\n",
        "model.summary()\n"
      ],
      "metadata": {
        "id": "sLhas-V4LdXo",
        "colab": {
          "base_uri": "https://localhost:8080/",
          "height": 332
        },
        "outputId": "5471fc07-4779-4c1b-9b56-54a9af53146e"
      },
      "execution_count": null,
      "outputs": [
        {
          "output_type": "stream",
          "name": "stderr",
          "text": [
            "/usr/local/lib/python3.11/dist-packages/keras/src/layers/core/embedding.py:90: UserWarning: Argument `input_length` is deprecated. Just remove it.\n",
            "  warnings.warn(\n"
          ]
        },
        {
          "output_type": "display_data",
          "data": {
            "text/plain": [
              "\u001b[1mModel: \"sequential\"\u001b[0m\n"
            ],
            "text/html": [
              "<pre style=\"white-space:pre;overflow-x:auto;line-height:normal;font-family:Menlo,'DejaVu Sans Mono',consolas,'Courier New',monospace\"><span style=\"font-weight: bold\">Model: \"sequential\"</span>\n",
              "</pre>\n"
            ]
          },
          "metadata": {}
        },
        {
          "output_type": "display_data",
          "data": {
            "text/plain": [
              "┏━━━━━━━━━━━━━━━━━━━━━━━━━━━━━━━━━┳━━━━━━━━━━━━━━━━━━━━━━━━┳━━━━━━━━━━━━━━━┓\n",
              "┃\u001b[1m \u001b[0m\u001b[1mLayer (type)                   \u001b[0m\u001b[1m \u001b[0m┃\u001b[1m \u001b[0m\u001b[1mOutput Shape          \u001b[0m\u001b[1m \u001b[0m┃\u001b[1m \u001b[0m\u001b[1m      Param #\u001b[0m\u001b[1m \u001b[0m┃\n",
              "┡━━━━━━━━━━━━━━━━━━━━━━━━━━━━━━━━━╇━━━━━━━━━━━━━━━━━━━━━━━━╇━━━━━━━━━━━━━━━┩\n",
              "│ embedding (\u001b[38;5;33mEmbedding\u001b[0m)           │ ?                      │   \u001b[38;5;34m0\u001b[0m (unbuilt) │\n",
              "├─────────────────────────────────┼────────────────────────┼───────────────┤\n",
              "│ bidirectional (\u001b[38;5;33mBidirectional\u001b[0m)   │ ?                      │   \u001b[38;5;34m0\u001b[0m (unbuilt) │\n",
              "├─────────────────────────────────┼────────────────────────┼───────────────┤\n",
              "│ dense (\u001b[38;5;33mDense\u001b[0m)                   │ ?                      │   \u001b[38;5;34m0\u001b[0m (unbuilt) │\n",
              "├─────────────────────────────────┼────────────────────────┼───────────────┤\n",
              "│ dropout (\u001b[38;5;33mDropout\u001b[0m)               │ ?                      │             \u001b[38;5;34m0\u001b[0m │\n",
              "├─────────────────────────────────┼────────────────────────┼───────────────┤\n",
              "│ dense_1 (\u001b[38;5;33mDense\u001b[0m)                 │ ?                      │   \u001b[38;5;34m0\u001b[0m (unbuilt) │\n",
              "└─────────────────────────────────┴────────────────────────┴───────────────┘\n"
            ],
            "text/html": [
              "<pre style=\"white-space:pre;overflow-x:auto;line-height:normal;font-family:Menlo,'DejaVu Sans Mono',consolas,'Courier New',monospace\">┏━━━━━━━━━━━━━━━━━━━━━━━━━━━━━━━━━┳━━━━━━━━━━━━━━━━━━━━━━━━┳━━━━━━━━━━━━━━━┓\n",
              "┃<span style=\"font-weight: bold\"> Layer (type)                    </span>┃<span style=\"font-weight: bold\"> Output Shape           </span>┃<span style=\"font-weight: bold\">       Param # </span>┃\n",
              "┡━━━━━━━━━━━━━━━━━━━━━━━━━━━━━━━━━╇━━━━━━━━━━━━━━━━━━━━━━━━╇━━━━━━━━━━━━━━━┩\n",
              "│ embedding (<span style=\"color: #0087ff; text-decoration-color: #0087ff\">Embedding</span>)           │ ?                      │   <span style=\"color: #00af00; text-decoration-color: #00af00\">0</span> (unbuilt) │\n",
              "├─────────────────────────────────┼────────────────────────┼───────────────┤\n",
              "│ bidirectional (<span style=\"color: #0087ff; text-decoration-color: #0087ff\">Bidirectional</span>)   │ ?                      │   <span style=\"color: #00af00; text-decoration-color: #00af00\">0</span> (unbuilt) │\n",
              "├─────────────────────────────────┼────────────────────────┼───────────────┤\n",
              "│ dense (<span style=\"color: #0087ff; text-decoration-color: #0087ff\">Dense</span>)                   │ ?                      │   <span style=\"color: #00af00; text-decoration-color: #00af00\">0</span> (unbuilt) │\n",
              "├─────────────────────────────────┼────────────────────────┼───────────────┤\n",
              "│ dropout (<span style=\"color: #0087ff; text-decoration-color: #0087ff\">Dropout</span>)               │ ?                      │             <span style=\"color: #00af00; text-decoration-color: #00af00\">0</span> │\n",
              "├─────────────────────────────────┼────────────────────────┼───────────────┤\n",
              "│ dense_1 (<span style=\"color: #0087ff; text-decoration-color: #0087ff\">Dense</span>)                 │ ?                      │   <span style=\"color: #00af00; text-decoration-color: #00af00\">0</span> (unbuilt) │\n",
              "└─────────────────────────────────┴────────────────────────┴───────────────┘\n",
              "</pre>\n"
            ]
          },
          "metadata": {}
        },
        {
          "output_type": "display_data",
          "data": {
            "text/plain": [
              "\u001b[1m Total params: \u001b[0m\u001b[38;5;34m0\u001b[0m (0.00 B)\n"
            ],
            "text/html": [
              "<pre style=\"white-space:pre;overflow-x:auto;line-height:normal;font-family:Menlo,'DejaVu Sans Mono',consolas,'Courier New',monospace\"><span style=\"font-weight: bold\"> Total params: </span><span style=\"color: #00af00; text-decoration-color: #00af00\">0</span> (0.00 B)\n",
              "</pre>\n"
            ]
          },
          "metadata": {}
        },
        {
          "output_type": "display_data",
          "data": {
            "text/plain": [
              "\u001b[1m Trainable params: \u001b[0m\u001b[38;5;34m0\u001b[0m (0.00 B)\n"
            ],
            "text/html": [
              "<pre style=\"white-space:pre;overflow-x:auto;line-height:normal;font-family:Menlo,'DejaVu Sans Mono',consolas,'Courier New',monospace\"><span style=\"font-weight: bold\"> Trainable params: </span><span style=\"color: #00af00; text-decoration-color: #00af00\">0</span> (0.00 B)\n",
              "</pre>\n"
            ]
          },
          "metadata": {}
        },
        {
          "output_type": "display_data",
          "data": {
            "text/plain": [
              "\u001b[1m Non-trainable params: \u001b[0m\u001b[38;5;34m0\u001b[0m (0.00 B)\n"
            ],
            "text/html": [
              "<pre style=\"white-space:pre;overflow-x:auto;line-height:normal;font-family:Menlo,'DejaVu Sans Mono',consolas,'Courier New',monospace\"><span style=\"font-weight: bold\"> Non-trainable params: </span><span style=\"color: #00af00; text-decoration-color: #00af00\">0</span> (0.00 B)\n",
              "</pre>\n"
            ]
          },
          "metadata": {}
        }
      ]
    },
    {
      "cell_type": "code",
      "source": [
        "# Train the model\n",
        "num_epochs = 5\n",
        "history = model.fit(X_train_pad, y_Otrain,\n",
        "                    epochs=num_epochs,\n",
        "                    verbose=1,\n",
        "                    validation_split=0.1)\n",
        "model.summary()\n"
      ],
      "metadata": {
        "colab": {
          "base_uri": "https://localhost:8080/"
        },
        "id": "ebWULpKChcRK",
        "outputId": "a273821f-f8f8-41df-befc-9dfdbb1b2afc"
      },
      "execution_count": null,
      "outputs": [
        {
          "output_type": "stream",
          "name": "stdout",
          "text": [
            "Epoch 1/5\n",
            "\u001b[1m139/139\u001b[0m \u001b[32m━━━━━━━━━━━━━━━━━━━━\u001b[0m\u001b[37m\u001b[0m \u001b[1m74s\u001b[0m 447ms/step - accuracy: 0.6559 - loss: 0.6291 - val_accuracy: 0.8150 - val_loss: 0.3921\n",
            "Epoch 2/5\n",
            "\u001b[1m139/139\u001b[0m \u001b[32m━━━━━━━━━━━━━━━━━━━━\u001b[0m\u001b[37m\u001b[0m \u001b[1m63s\u001b[0m 313ms/step - accuracy: 0.8838 - loss: 0.2802 - val_accuracy: 0.9553 - val_loss: 0.1211\n",
            "Epoch 3/5\n",
            "\u001b[1m139/139\u001b[0m \u001b[32m━━━━━━━━━━━━━━━━━━━━\u001b[0m\u001b[37m\u001b[0m \u001b[1m79s\u001b[0m 294ms/step - accuracy: 0.9754 - loss: 0.0879 - val_accuracy: 0.9695 - val_loss: 0.0865\n",
            "Epoch 4/5\n",
            "\u001b[1m139/139\u001b[0m \u001b[32m━━━━━━━━━━━━━━━━━━━━\u001b[0m\u001b[37m\u001b[0m \u001b[1m81s\u001b[0m 286ms/step - accuracy: 0.9799 - loss: 0.0628 - val_accuracy: 0.9736 - val_loss: 0.0802\n",
            "Epoch 5/5\n",
            "\u001b[1m139/139\u001b[0m \u001b[32m━━━━━━━━━━━━━━━━━━━━\u001b[0m\u001b[37m\u001b[0m \u001b[1m41s\u001b[0m 286ms/step - accuracy: 0.9881 - loss: 0.0406 - val_accuracy: 0.9736 - val_loss: 0.0894\n"
          ]
        },
        {
          "output_type": "display_data",
          "data": {
            "text/plain": [
              "\u001b[1mModel: \"sequential\"\u001b[0m\n"
            ],
            "text/html": [
              "<pre style=\"white-space:pre;overflow-x:auto;line-height:normal;font-family:Menlo,'DejaVu Sans Mono',consolas,'Courier New',monospace\"><span style=\"font-weight: bold\">Model: \"sequential\"</span>\n",
              "</pre>\n"
            ]
          },
          "metadata": {}
        },
        {
          "output_type": "display_data",
          "data": {
            "text/plain": [
              "┏━━━━━━━━━━━━━━━━━━━━━━━━━━━━━━━━━┳━━━━━━━━━━━━━━━━━━━━━━━━┳━━━━━━━━━━━━━━━┓\n",
              "┃\u001b[1m \u001b[0m\u001b[1mLayer (type)                   \u001b[0m\u001b[1m \u001b[0m┃\u001b[1m \u001b[0m\u001b[1mOutput Shape          \u001b[0m\u001b[1m \u001b[0m┃\u001b[1m \u001b[0m\u001b[1m      Param #\u001b[0m\u001b[1m \u001b[0m┃\n",
              "┡━━━━━━━━━━━━━━━━━━━━━━━━━━━━━━━━━╇━━━━━━━━━━━━━━━━━━━━━━━━╇━━━━━━━━━━━━━━━┩\n",
              "│ embedding (\u001b[38;5;33mEmbedding\u001b[0m)           │ (\u001b[38;5;45mNone\u001b[0m, \u001b[38;5;34m260\u001b[0m, \u001b[38;5;34m64\u001b[0m)        │       \u001b[38;5;34m320,000\u001b[0m │\n",
              "├─────────────────────────────────┼────────────────────────┼───────────────┤\n",
              "│ bidirectional (\u001b[38;5;33mBidirectional\u001b[0m)   │ (\u001b[38;5;45mNone\u001b[0m, \u001b[38;5;34m128\u001b[0m)            │        \u001b[38;5;34m66,048\u001b[0m │\n",
              "├─────────────────────────────────┼────────────────────────┼───────────────┤\n",
              "│ dense (\u001b[38;5;33mDense\u001b[0m)                   │ (\u001b[38;5;45mNone\u001b[0m, \u001b[38;5;34m24\u001b[0m)             │         \u001b[38;5;34m3,096\u001b[0m │\n",
              "├─────────────────────────────────┼────────────────────────┼───────────────┤\n",
              "│ dropout (\u001b[38;5;33mDropout\u001b[0m)               │ (\u001b[38;5;45mNone\u001b[0m, \u001b[38;5;34m24\u001b[0m)             │             \u001b[38;5;34m0\u001b[0m │\n",
              "├─────────────────────────────────┼────────────────────────┼───────────────┤\n",
              "│ dense_1 (\u001b[38;5;33mDense\u001b[0m)                 │ (\u001b[38;5;45mNone\u001b[0m, \u001b[38;5;34m1\u001b[0m)              │            \u001b[38;5;34m25\u001b[0m │\n",
              "└─────────────────────────────────┴────────────────────────┴───────────────┘\n"
            ],
            "text/html": [
              "<pre style=\"white-space:pre;overflow-x:auto;line-height:normal;font-family:Menlo,'DejaVu Sans Mono',consolas,'Courier New',monospace\">┏━━━━━━━━━━━━━━━━━━━━━━━━━━━━━━━━━┳━━━━━━━━━━━━━━━━━━━━━━━━┳━━━━━━━━━━━━━━━┓\n",
              "┃<span style=\"font-weight: bold\"> Layer (type)                    </span>┃<span style=\"font-weight: bold\"> Output Shape           </span>┃<span style=\"font-weight: bold\">       Param # </span>┃\n",
              "┡━━━━━━━━━━━━━━━━━━━━━━━━━━━━━━━━━╇━━━━━━━━━━━━━━━━━━━━━━━━╇━━━━━━━━━━━━━━━┩\n",
              "│ embedding (<span style=\"color: #0087ff; text-decoration-color: #0087ff\">Embedding</span>)           │ (<span style=\"color: #00d7ff; text-decoration-color: #00d7ff\">None</span>, <span style=\"color: #00af00; text-decoration-color: #00af00\">260</span>, <span style=\"color: #00af00; text-decoration-color: #00af00\">64</span>)        │       <span style=\"color: #00af00; text-decoration-color: #00af00\">320,000</span> │\n",
              "├─────────────────────────────────┼────────────────────────┼───────────────┤\n",
              "│ bidirectional (<span style=\"color: #0087ff; text-decoration-color: #0087ff\">Bidirectional</span>)   │ (<span style=\"color: #00d7ff; text-decoration-color: #00d7ff\">None</span>, <span style=\"color: #00af00; text-decoration-color: #00af00\">128</span>)            │        <span style=\"color: #00af00; text-decoration-color: #00af00\">66,048</span> │\n",
              "├─────────────────────────────────┼────────────────────────┼───────────────┤\n",
              "│ dense (<span style=\"color: #0087ff; text-decoration-color: #0087ff\">Dense</span>)                   │ (<span style=\"color: #00d7ff; text-decoration-color: #00d7ff\">None</span>, <span style=\"color: #00af00; text-decoration-color: #00af00\">24</span>)             │         <span style=\"color: #00af00; text-decoration-color: #00af00\">3,096</span> │\n",
              "├─────────────────────────────────┼────────────────────────┼───────────────┤\n",
              "│ dropout (<span style=\"color: #0087ff; text-decoration-color: #0087ff\">Dropout</span>)               │ (<span style=\"color: #00d7ff; text-decoration-color: #00d7ff\">None</span>, <span style=\"color: #00af00; text-decoration-color: #00af00\">24</span>)             │             <span style=\"color: #00af00; text-decoration-color: #00af00\">0</span> │\n",
              "├─────────────────────────────────┼────────────────────────┼───────────────┤\n",
              "│ dense_1 (<span style=\"color: #0087ff; text-decoration-color: #0087ff\">Dense</span>)                 │ (<span style=\"color: #00d7ff; text-decoration-color: #00d7ff\">None</span>, <span style=\"color: #00af00; text-decoration-color: #00af00\">1</span>)              │            <span style=\"color: #00af00; text-decoration-color: #00af00\">25</span> │\n",
              "└─────────────────────────────────┴────────────────────────┴───────────────┘\n",
              "</pre>\n"
            ]
          },
          "metadata": {}
        },
        {
          "output_type": "display_data",
          "data": {
            "text/plain": [
              "\u001b[1m Total params: \u001b[0m\u001b[38;5;34m1,167,509\u001b[0m (4.45 MB)\n"
            ],
            "text/html": [
              "<pre style=\"white-space:pre;overflow-x:auto;line-height:normal;font-family:Menlo,'DejaVu Sans Mono',consolas,'Courier New',monospace\"><span style=\"font-weight: bold\"> Total params: </span><span style=\"color: #00af00; text-decoration-color: #00af00\">1,167,509</span> (4.45 MB)\n",
              "</pre>\n"
            ]
          },
          "metadata": {}
        },
        {
          "output_type": "display_data",
          "data": {
            "text/plain": [
              "\u001b[1m Trainable params: \u001b[0m\u001b[38;5;34m389,169\u001b[0m (1.48 MB)\n"
            ],
            "text/html": [
              "<pre style=\"white-space:pre;overflow-x:auto;line-height:normal;font-family:Menlo,'DejaVu Sans Mono',consolas,'Courier New',monospace\"><span style=\"font-weight: bold\"> Trainable params: </span><span style=\"color: #00af00; text-decoration-color: #00af00\">389,169</span> (1.48 MB)\n",
              "</pre>\n"
            ]
          },
          "metadata": {}
        },
        {
          "output_type": "display_data",
          "data": {
            "text/plain": [
              "\u001b[1m Non-trainable params: \u001b[0m\u001b[38;5;34m0\u001b[0m (0.00 B)\n"
            ],
            "text/html": [
              "<pre style=\"white-space:pre;overflow-x:auto;line-height:normal;font-family:Menlo,'DejaVu Sans Mono',consolas,'Courier New',monospace\"><span style=\"font-weight: bold\"> Non-trainable params: </span><span style=\"color: #00af00; text-decoration-color: #00af00\">0</span> (0.00 B)\n",
              "</pre>\n"
            ]
          },
          "metadata": {}
        },
        {
          "output_type": "display_data",
          "data": {
            "text/plain": [
              "\u001b[1m Optimizer params: \u001b[0m\u001b[38;5;34m778,340\u001b[0m (2.97 MB)\n"
            ],
            "text/html": [
              "<pre style=\"white-space:pre;overflow-x:auto;line-height:normal;font-family:Menlo,'DejaVu Sans Mono',consolas,'Courier New',monospace\"><span style=\"font-weight: bold\"> Optimizer params: </span><span style=\"color: #00af00; text-decoration-color: #00af00\">778,340</span> (2.97 MB)\n",
              "</pre>\n"
            ]
          },
          "metadata": {}
        }
      ]
    },
    {
      "cell_type": "markdown",
      "source": [
        "shows accuracy and loss on both training and validation sets"
      ],
      "metadata": {
        "id": "M7XI7vHsJNst"
      }
    },
    {
      "cell_type": "code",
      "source": [
        "plt.figure(figsize=(12,5))\n",
        "\n",
        "# Accuracy\n",
        "plt.subplot(1, 2, 1)\n",
        "plt.plot(history.history['accuracy'], label='Train Accuracy')\n",
        "plt.plot(history.history['val_accuracy'], label='Val Accuracy')\n",
        "plt.title('Model Accuracy')\n",
        "plt.xlabel('Epoch')\n",
        "plt.ylabel('Accuracy')\n",
        "plt.legend()\n",
        "\n",
        "# Loss\n",
        "plt.subplot(1, 2, 2)\n",
        "plt.plot(history.history['loss'], label='Train Loss')\n",
        "plt.plot(history.history['val_loss'], label='Val Loss')\n",
        "plt.title('Model Loss')\n",
        "plt.xlabel('Epoch')\n",
        "plt.ylabel('Loss')\n",
        "plt.legend()\n",
        "\n",
        "plt.tight_layout()\n",
        "plt.show()\n"
      ],
      "metadata": {
        "colab": {
          "base_uri": "https://localhost:8080/",
          "height": 507
        },
        "id": "Qz6jwD7oDvr7",
        "outputId": "d6727d84-65e9-4717-a02a-b87373ffd6c6"
      },
      "execution_count": null,
      "outputs": [
        {
          "output_type": "display_data",
          "data": {
            "text/plain": [
              "<Figure size 1200x500 with 2 Axes>"
            ],
            "image/png": "[encoded data removed]"
          },
          "metadata": {}
        }
      ]
    },
    {
      "cell_type": "code",
      "source": [
        "import joblib\n",
        "joblib.dump(tokenizer, \"tokenizer.pkl\")\n",
        "joblib.dump(max_len, \"max_length.pkl\")\n"
      ],
      "metadata": {
        "colab": {
          "base_uri": "https://localhost:8080/"
        },
        "id": "rT9zWTaiF51s",
        "outputId": "90974152-39c0-4a3c-c2e4-b96cb20b541b"
      },
      "execution_count": null,
      "outputs": [
        {
          "output_type": "execute_result",
          "data": {
            "text/plain": [
              "['max_length.pkl']"
            ]
          },
          "metadata": {},
          "execution_count": 48
        }
      ]
    },
    {
      "cell_type": "code",
      "source": [
        "from sklearn.metrics import classification_report, confusion_matrix, accuracy_score\n",
        "import numpy as np\n",
        "\n",
        "# Predict probabilities\n",
        "y_pred_prob = model.predict(X_test_pad)\n",
        "\n",
        "# Convert probabilities to binary labels (0 or 1)\n",
        "y_pred = (y_pred_prob > 0.5).astype(\"int32\")\n",
        "\n",
        "# Print model accuracy\n",
        "accuracy = accuracy_score(y_Otest, y_pred)\n",
        "print(f\"LSTM Model Accuracy: {accuracy}\")\n",
        "\n",
        "# Get the actual classes present\n",
        "unique_classes = np.unique(y_Otest)\n",
        "target_names = [str(cls) for cls in unique_classes]\n",
        "\n",
        "# Print classification report\n",
        "print(\"Classification Report:\")\n",
        "print(classification_report(y_Otest, y_pred, target_names=target_names))\n"
      ],
      "metadata": {
        "colab": {
          "base_uri": "https://localhost:8080/"
        },
        "id": "q3ZD7K9LcP0h",
        "outputId": "44de0dd3-3109-4ba5-c0dc-54adf63b367d"
      },
      "execution_count": null,
      "outputs": [
        {
          "output_type": "stream",
          "name": "stdout",
          "text": [
            "\u001b[1m28/28\u001b[0m \u001b[32m━━━━━━━━━━━━━━━━━━━━\u001b[0m\u001b[37m\u001b[0m \u001b[1m4s\u001b[0m 117ms/step\n",
            "LSTM Model Accuracy: 0.9711981566820277\n",
            "Classification Report:\n",
            "              precision    recall  f1-score   support\n",
            "\n",
            "           0       0.94      1.00      0.97       406\n",
            "           1       1.00      0.95      0.97       462\n",
            "\n",
            "    accuracy                           0.97       868\n",
            "   macro avg       0.97      0.97      0.97       868\n",
            "weighted avg       0.97      0.97      0.97       868\n",
            "\n"
          ]
        }
      ]
    },
    {
      "cell_type": "markdown",
      "source": [
        "**Confusion Matrix - LSTM**"
      ],
      "metadata": {
        "id": "vXnufVMLFxIj"
      }
    },
    {
      "cell_type": "code",
      "source": [
        "import matplotlib.pyplot as plt\n",
        "import seaborn as sns\n",
        "from sklearn.metrics import confusion_matrix\n",
        "\n",
        "cm = confusion_matrix(y_Otest, y_pred)\n",
        "\n",
        "plt.figure(figsize=(6,5))\n",
        "sns.heatmap(cm, annot=True, fmt='d', cmap='Blues')\n",
        "plt.xlabel(\"Predicted Label\")\n",
        "plt.ylabel(\"True Label\")\n",
        "plt.title(\"Confusion Matrix - LSTM\")\n",
        "plt.show()\n"
      ],
      "metadata": {
        "colab": {
          "base_uri": "https://localhost:8080/",
          "height": 487
        },
        "id": "hWlS6ZTxDd5O",
        "outputId": "2ce015f5-6831-4645-ad29-c11e7bb3f04f"
      },
      "execution_count": null,
      "outputs": [
        {
          "output_type": "display_data",
          "data": {
            "text/plain": [
              "<Figure size 600x500 with 2 Axes>"
            ],
            "image/png": "[encoded data removed]"
          },
          "metadata": {}
        }
      ]
    },
    {
      "cell_type": "code",
      "source": [
        "model.save(\"LSTM_meaad.h5\")"
      ],
      "metadata": {
        "colab": {
          "base_uri": "https://localhost:8080/"
        },
        "id": "QVH5BmTiiZKk",
        "outputId": "fe9337dd-1909-436c-fc19-e370a454f210"
      },
      "execution_count": null,
      "outputs": [
        {
          "output_type": "stream",
          "name": "stderr",
          "text": [
            "WARNING:absl:You are saving your model as an HDF5 file via `model.save()` or `keras.saving.save_model(model)`. This file format is considered legacy. We recommend using instead the native Keras format, e.g. `model.save('my_model.keras')` or `keras.saving.save_model(model, 'my_model.keras')`. \n"
          ]
        }
      ]
    },
    {
      "cell_type": "markdown",
      "source": [
        "**user query**"
      ],
      "metadata": {
        "id": "JPwsrES3Koca"
      }
    },
    {
      "cell_type": "code",
      "source": [
        "from tensorflow.keras.models import load_model\n",
        "# Load the trained LSTM model\n",
        "model = load_model(\"LSTM_meaad.h5\")\n",
        "\n",
        "# Load the tokenizer\n",
        "tokenizer = joblib.load(\"tokenizer.pkl\")\n",
        "\n",
        "# Set max_len to the same value used during training\n",
        "max_len = 260  # change if needed\n",
        "\n",
        "# List of test examples (positive + negative)\n",
        "test_texts = [\n",
        "    \"I really love this product 😍\",      # Expected Positive\n",
        "    \"I do not recommend this at all 😡\"  # Expected Negative\n",
        "]\n",
        "\n",
        "# Loop through each text and make prediction\n",
        "for text in test_texts:\n",
        "    clean_text = emoji.demojize(text.lower().strip())\n",
        "    seq = tokenizer.texts_to_sequences([clean_text])\n",
        "    pad = pad_sequences(seq, maxlen=max_len, padding='post', truncating='post')\n",
        "\n",
        "    prediction = model.predict(pad)[0][0]\n",
        "\n",
        "    sentiment = \"Positive\" if prediction >= 0.5 else \"Negative\"\n",
        "    print(f\"Text: {text}\")\n",
        "    print(f\"Predicted sentiment by LSTM model: {sentiment} ({prediction:.2f})\\n\")"
      ],
      "metadata": {
        "colab": {
          "base_uri": "https://localhost:8080/"
        },
        "id": "1GZGwdKK2h2V",
        "outputId": "f1e3771b-358b-4cd7-d37b-df6d9755e141"
      },
      "execution_count": null,
      "outputs": [
        {
          "output_type": "stream",
          "name": "stderr",
          "text": [
            "WARNING:absl:Compiled the loaded model, but the compiled metrics have yet to be built. `model.compile_metrics` will be empty until you train or evaluate the model.\n"
          ]
        },
        {
          "output_type": "stream",
          "name": "stdout",
          "text": [
            "\u001b[1m1/1\u001b[0m \u001b[32m━━━━━━━━━━━━━━━━━━━━\u001b[0m\u001b[37m\u001b[0m \u001b[1m0s\u001b[0m 401ms/step\n",
            "Text: I really love this product 😍\n",
            "Predicted sentiment by LSTM model: Positive (1.00)\n",
            "\n",
            "\u001b[1m1/1\u001b[0m \u001b[32m━━━━━━━━━━━━━━━━━━━━\u001b[0m\u001b[37m\u001b[0m \u001b[1m0s\u001b[0m 59ms/step\n",
            "Text: I do not recommend this at all 😡\n",
            "Predicted sentiment by LSTM model: Negative (0.00)\n",
            "\n"
          ]
        }
      ]
    },
    {
      "cell_type": "code",
      "source": [
        "import joblib\n",
        "import emoji\n",
        "\n",
        "rf_model = joblib.load(\"rf_model.pkl\")\n",
        "vectorizer = joblib.load(\"vectorizer.pkl\")\n",
        "\n",
        "\n",
        "new_text = \"I really love this product 😍\"\n",
        "\n",
        "\n",
        "clean_text = emoji.demojize(new_text.lower().strip())\n",
        "\n",
        "\n",
        "new_vector = vectorizer.transform([clean_text])\n",
        "\n",
        "\n",
        "prediction = rf_model.predict_proba(new_vector)[0][1]\n",
        "\n",
        "if prediction >= 0.5:\n",
        "    print(f\"Predicted sentiment: Positive  ({prediction:.2f})\")\n",
        "else:\n",
        "    print(f\"Predicted sentiment: Negative  ({prediction:.2f})\")\n"
      ],
      "metadata": {
        "colab": {
          "base_uri": "https://localhost:8080/"
        },
        "id": "DWFeXQXXM6rk",
        "outputId": "045d6b08-bfdc-45a9-b84d-a91ddf6ebec7"
      },
      "execution_count": null,
      "outputs": [
        {
          "output_type": "stream",
          "name": "stdout",
          "text": [
            "Predicted sentiment: Positive  (1.00)\n"
          ]
        }
      ]
    },
    {
      "cell_type": "markdown",
      "source": [
        "# interface"
      ],
      "metadata": {
        "id": "2nonMFnskn0W"
      }
    },
    {
      "cell_type": "code",
      "source": [
        "!pip install gradio\n"
      ],
      "metadata": {
        "colab": {
          "base_uri": "https://localhost:8080/"
        },
        "id": "mv8Z-jq3z8Ka",
        "outputId": "adad986f-611b-4500-92b4-c9c67e55d66b"
      },
      "execution_count": null,
      "outputs": [
        {
          "output_type": "stream",
          "name": "stdout",
          "text": [
            "Collecting gradio\n",
            "  Downloading gradio-5.25.2-py3-none-any.whl.metadata (16 kB)\n",
            "Collecting aiofiles<25.0,>=22.0 (from gradio)\n",
            "  Downloading aiofiles-24.1.0-py3-none-any.whl.metadata (10 kB)\n",
            "Requirement already satisfied: anyio<5.0,>=3.0 in /usr/local/lib/python3.11/dist-packages (from gradio) (4.9.0)\n",
            "Collecting fastapi<1.0,>=0.115.2 (from gradio)\n",
            "  Downloading fastapi-0.115.12-py3-none-any.whl.metadata (27 kB)\n",
            "Collecting ffmpy (from gradio)\n",
            "  Downloading ffmpy-0.5.0-py3-none-any.whl.metadata (3.0 kB)\n",
            "Collecting gradio-client==1.8.0 (from gradio)\n",
            "  Downloading gradio_client-1.8.0-py3-none-any.whl.metadata (7.1 kB)\n",
            "Collecting groovy~=0.1 (from gradio)\n",
            "  Downloading groovy-0.1.2-py3-none-any.whl.metadata (6.1 kB)\n",
            "Requirement already satisfied: httpx>=0.24.1 in /usr/local/lib/python3.11/dist-packages (from gradio) (0.28.1)\n",
            "Requirement already satisfied: huggingface-hub>=0.28.1 in /usr/local/lib/python3.11/dist-packages (from gradio) (0.30.2)\n",
            "Requirement already satisfied: jinja2<4.0 in /usr/local/lib/python3.11/dist-packages (from gradio) (3.1.6)\n",
            "Requirement already satisfied: markupsafe<4.0,>=2.0 in /usr/local/lib/python3.11/dist-packages (from gradio) (3.0.2)\n",
            "Requirement already satisfied: numpy<3.0,>=1.0 in /usr/local/lib/python3.11/dist-packages (from gradio) (2.0.2)\n",
            "Requirement already satisfied: orjson~=3.0 in /usr/local/lib/python3.11/dist-packages (from gradio) (3.10.16)\n",
            "Requirement already satisfied: packaging in /usr/local/lib/python3.11/dist-packages (from gradio) (24.2)\n",
            "Requirement already satisfied: pandas<3.0,>=1.0 in /usr/local/lib/python3.11/dist-packages (from gradio) (2.2.2)\n",
            "Requirement already satisfied: pillow<12.0,>=8.0 in /usr/local/lib/python3.11/dist-packages (from gradio) (11.1.0)\n",
            "Requirement already satisfied: pydantic<2.12,>=2.0 in /usr/local/lib/python3.11/dist-packages (from gradio) (2.11.3)\n",
            "Collecting pydub (from gradio)\n",
            "  Downloading pydub-0.25.1-py2.py3-none-any.whl.metadata (1.4 kB)\n",
            "Collecting python-multipart>=0.0.18 (from gradio)\n",
            "  Downloading python_multipart-0.0.20-py3-none-any.whl.metadata (1.8 kB)\n",
            "Requirement already satisfied: pyyaml<7.0,>=5.0 in /usr/local/lib/python3.11/dist-packages (from gradio) (6.0.2)\n",
            "Collecting ruff>=0.9.3 (from gradio)\n",
            "  Downloading ruff-0.11.6-py3-none-manylinux_2_17_x86_64.manylinux2014_x86_64.whl.metadata (25 kB)\n",
            "Collecting safehttpx<0.2.0,>=0.1.6 (from gradio)\n",
            "  Downloading safehttpx-0.1.6-py3-none-any.whl.metadata (4.2 kB)\n",
            "Collecting semantic-version~=2.0 (from gradio)\n",
            "  Downloading semantic_version-2.10.0-py2.py3-none-any.whl.metadata (9.7 kB)\n",
            "Collecting starlette<1.0,>=0.40.0 (from gradio)\n",
            "  Downloading starlette-0.46.2-py3-none-any.whl.metadata (6.2 kB)\n",
            "Collecting tomlkit<0.14.0,>=0.12.0 (from gradio)\n",
            "  Downloading tomlkit-0.13.2-py3-none-any.whl.metadata (2.7 kB)\n",
            "Requirement already satisfied: typer<1.0,>=0.12 in /usr/local/lib/python3.11/dist-packages (from gradio) (0.15.2)\n",
            "Requirement already satisfied: typing-extensions~=4.0 in /usr/local/lib/python3.11/dist-packages (from gradio) (4.13.2)\n",
            "Collecting uvicorn>=0.14.0 (from gradio)\n",
            "  Downloading uvicorn-0.34.2-py3-none-any.whl.metadata (6.5 kB)\n",
            "Requirement already satisfied: fsspec in /usr/local/lib/python3.11/dist-packages (from gradio-client==1.8.0->gradio) (2025.3.2)\n",
            "Requirement already satisfied: websockets<16.0,>=10.0 in /usr/local/lib/python3.11/dist-packages (from gradio-client==1.8.0->gradio) (15.0.1)\n",
            "Requirement already satisfied: idna>=2.8 in /usr/local/lib/python3.11/dist-packages (from anyio<5.0,>=3.0->gradio) (3.10)\n",
            "Requirement already satisfied: sniffio>=1.1 in /usr/local/lib/python3.11/dist-packages (from anyio<5.0,>=3.0->gradio) (1.3.1)\n",
            "Requirement already satisfied: certifi in /usr/local/lib/python3.11/dist-packages (from httpx>=0.24.1->gradio) (2025.1.31)\n",
            "Requirement already satisfied: httpcore==1.* in /usr/local/lib/python3.11/dist-packages (from httpx>=0.24.1->gradio) (1.0.8)\n",
            "Requirement already satisfied: h11<0.15,>=0.13 in /usr/local/lib/python3.11/dist-packages (from httpcore==1.*->httpx>=0.24.1->gradio) (0.14.0)\n",
            "Requirement already satisfied: filelock in /usr/local/lib/python3.11/dist-packages (from huggingface-hub>=0.28.1->gradio) (3.18.0)\n",
            "Requirement already satisfied: requests in /usr/local/lib/python3.11/dist-packages (from huggingface-hub>=0.28.1->gradio) (2.32.3)\n",
            "Requirement already satisfied: tqdm>=4.42.1 in /usr/local/lib/python3.11/dist-packages (from huggingface-hub>=0.28.1->gradio) (4.67.1)\n",
            "Requirement already satisfied: python-dateutil>=2.8.2 in /usr/local/lib/python3.11/dist-packages (from pandas<3.0,>=1.0->gradio) (2.8.2)\n",
            "Requirement already satisfied: pytz>=2020.1 in /usr/local/lib/python3.11/dist-packages (from pandas<3.0,>=1.0->gradio) (2025.2)\n",
            "Requirement already satisfied: tzdata>=2022.7 in /usr/local/lib/python3.11/dist-packages (from pandas<3.0,>=1.0->gradio) (2025.2)\n",
            "Requirement already satisfied: annotated-types>=0.6.0 in /usr/local/lib/python3.11/dist-packages (from pydantic<2.12,>=2.0->gradio) (0.7.0)\n",
            "Requirement already satisfied: pydantic-core==2.33.1 in /usr/local/lib/python3.11/dist-packages (from pydantic<2.12,>=2.0->gradio) (2.33.1)\n",
            "Requirement already satisfied: typing-inspection>=0.4.0 in /usr/local/lib/python3.11/dist-packages (from pydantic<2.12,>=2.0->gradio) (0.4.0)\n",
            "Requirement already satisfied: click>=8.0.0 in /usr/local/lib/python3.11/dist-packages (from typer<1.0,>=0.12->gradio) (8.1.8)\n",
            "Requirement already satisfied: shellingham>=1.3.0 in /usr/local/lib/python3.11/dist-packages (from typer<1.0,>=0.12->gradio) (1.5.4)\n",
            "Requirement already satisfied: rich>=10.11.0 in /usr/local/lib/python3.11/dist-packages (from typer<1.0,>=0.12->gradio) (13.9.4)\n",
            "Requirement already satisfied: six>=1.5 in /usr/local/lib/python3.11/dist-packages (from python-dateutil>=2.8.2->pandas<3.0,>=1.0->gradio) (1.17.0)\n",
            "Requirement already satisfied: markdown-it-py>=2.2.0 in /usr/local/lib/python3.11/dist-packages (from rich>=10.11.0->typer<1.0,>=0.12->gradio) (3.0.0)\n",
            "Requirement already satisfied: pygments<3.0.0,>=2.13.0 in /usr/local/lib/python3.11/dist-packages (from rich>=10.11.0->typer<1.0,>=0.12->gradio) (2.18.0)\n",
            "Requirement already satisfied: charset-normalizer<4,>=2 in /usr/local/lib/python3.11/dist-packages (from requests->huggingface-hub>=0.28.1->gradio) (3.4.1)\n",
            "Requirement already satisfied: urllib3<3,>=1.21.1 in /usr/local/lib/python3.11/dist-packages (from requests->huggingface-hub>=0.28.1->gradio) (2.3.0)\n",
            "Requirement already satisfied: mdurl~=0.1 in /usr/local/lib/python3.11/dist-packages (from markdown-it-py>=2.2.0->rich>=10.11.0->typer<1.0,>=0.12->gradio) (0.1.2)\n",
            "Downloading gradio-5.25.2-py3-none-any.whl (46.9 MB)\n",
            "\u001b[2K   \u001b[90m━━━━━━━━━━━━━━━━━━━━━━━━━━━━━━━━━━━━━━━━\u001b[0m \u001b[32m46.9/46.9 MB\u001b[0m \u001b[31m17.4 MB/s\u001b[0m eta \u001b[36m0:00:00\u001b[0m\n",
            "\u001b[?25hDownloading gradio_client-1.8.0-py3-none-any.whl (322 kB)\n",
            "\u001b[2K   \u001b[90m━━━━━━━━━━━━━━━━━━━━━━━━━━━━━━━━━━━━━━━━\u001b[0m \u001b[32m322.2/322.2 kB\u001b[0m \u001b[31m18.9 MB/s\u001b[0m eta \u001b[36m0:00:00\u001b[0m\n",
            "\u001b[?25hDownloading aiofiles-24.1.0-py3-none-any.whl (15 kB)\n",
            "Downloading fastapi-0.115.12-py3-none-any.whl (95 kB)\n",
            "\u001b[2K   \u001b[90m━━━━━━━━━━━━━━━━━━━━━━━━━━━━━━━━━━━━━━━━\u001b[0m \u001b[32m95.2/95.2 kB\u001b[0m \u001b[31m6.7 MB/s\u001b[0m eta \u001b[36m0:00:00\u001b[0m\n",
            "\u001b[?25hDownloading groovy-0.1.2-py3-none-any.whl (14 kB)\n",
            "Downloading python_multipart-0.0.20-py3-none-any.whl (24 kB)\n",
            "Downloading ruff-0.11.6-py3-none-manylinux_2_17_x86_64.manylinux2014_x86_64.whl (11.5 MB)\n",
            "\u001b[2K   \u001b[90m━━━━━━━━━━━━━━━━━━━━━━━━━━━━━━━━━━━━━━━━\u001b[0m \u001b[32m11.5/11.5 MB\u001b[0m \u001b[31m64.2 MB/s\u001b[0m eta \u001b[36m0:00:00\u001b[0m\n",
            "\u001b[?25hDownloading safehttpx-0.1.6-py3-none-any.whl (8.7 kB)\n",
            "Downloading semantic_version-2.10.0-py2.py3-none-any.whl (15 kB)\n",
            "Downloading starlette-0.46.2-py3-none-any.whl (72 kB)\n",
            "\u001b[2K   \u001b[90m━━━━━━━━━━━━━━━━━━━━━━━━━━━━━━━━━━━━━━━━\u001b[0m \u001b[32m72.0/72.0 kB\u001b[0m \u001b[31m5.1 MB/s\u001b[0m eta \u001b[36m0:00:00\u001b[0m\n",
            "\u001b[?25hDownloading tomlkit-0.13.2-py3-none-any.whl (37 kB)\n",
            "Downloading uvicorn-0.34.2-py3-none-any.whl (62 kB)\n",
            "\u001b[2K   \u001b[90m━━━━━━━━━━━━━━━━━━━━━━━━━━━━━━━━━━━━━━━━\u001b[0m \u001b[32m62.5/62.5 kB\u001b[0m \u001b[31m3.3 MB/s\u001b[0m eta \u001b[36m0:00:00\u001b[0m\n",
            "\u001b[?25hDownloading ffmpy-0.5.0-py3-none-any.whl (6.0 kB)\n",
            "Downloading pydub-0.25.1-py2.py3-none-any.whl (32 kB)\n",
            "Installing collected packages: pydub, uvicorn, tomlkit, semantic-version, ruff, python-multipart, groovy, ffmpy, aiofiles, starlette, safehttpx, gradio-client, fastapi, gradio\n",
            "Successfully installed aiofiles-24.1.0 fastapi-0.115.12 ffmpy-0.5.0 gradio-5.25.2 gradio-client-1.8.0 groovy-0.1.2 pydub-0.25.1 python-multipart-0.0.20 ruff-0.11.6 safehttpx-0.1.6 semantic-version-2.10.0 starlette-0.46.2 tomlkit-0.13.2 uvicorn-0.34.2\n"
          ]
        }
      ]
    },
    {
      "cell_type": "code",
      "source": [
        "import gradio as gr\n",
        "import tensorflow as tf\n",
        "import pickle\n",
        "from tensorflow.keras.preprocessing.sequence import pad_sequences\n",
        "\n",
        "# تحميل النموذج والبيانات\n",
        "model = tf.keras.models.load_model(\"LSTM_meaad.h5\")\n",
        "tokenizer = pickle.load(open(\"tokenizer.pkl\", \"rb\"))\n",
        "max_length = pickle.load(open(\"max_length.pkl\", \"rb\"))\n",
        "\n",
        "# دالة التوقع مع تنسيق متقدم\n",
        "def predict_sentiment(text):\n",
        "    seq = tokenizer.texts_to_sequences([text])\n",
        "    padded = pad_sequences(seq, maxlen=max_length, padding='post')\n",
        "    pred = model.predict(padded)[0][0]\n",
        "\n",
        "    if pred > 0.5:\n",
        "        label = \"Positive\"\n",
        "        color = \"#e0fce0\"\n",
        "        border = \"#28a745\"\n",
        "        emoji = \"https://cdn-icons-png.flaticon.com/512/742/742751.png\"  # emoji سعيد\n",
        "    else:\n",
        "        label = \"Negative\"\n",
        "        color = \"#ffe0e0\"\n",
        "        border = \"#dc3545\"\n",
        "        emoji = \"https://cdn-icons-png.flaticon.com/512/742/742774.png\"  # emoji زعلان\n",
        "\n",
        "    html_output = f\"\"\"\n",
        "    <div style='background-color:{color}; padding:20px; border-radius:15px; border:2px solid {border};\n",
        "                box-shadow: 2px 2px 10px rgba(0,0,0,0.1); font-family:\"Poppins\", sans-serif'>\n",
        "        <div style='display:flex; align-items:center; gap:15px;'>\n",
        "            <img src=\"{emoji}\" width=\"50\"/>\n",
        "            <div>\n",
        "                <h3 style='margin:0;'>{label} Sentiment</h3>\n",
        "                <p style='margin:0;'>Confidence: {pred:.2f}</p>\n",
        "            </div>\n",
        "        </div>\n",
        "    </div>\n",
        "    \"\"\"\n",
        "    return html_output\n",
        "\n",
        "# واجهة Gradio\n",
        "interface = gr.Interface(\n",
        "    fn=predict_sentiment,\n",
        "    inputs=gr.Textbox(label=\"📝 Write your review here:\"),\n",
        "    outputs=gr.HTML(label=\"🎯 Sentiment Result\"),\n",
        "    title=\"📊 Sentiment Classifier\",\n",
        "    description=\"This model predicts whether your text expresses a positive or negative sentiment.\",\n",
        "    theme=\"default\"\n",
        ")\n",
        "\n",
        "interface.launch(share=True)\n"
      ],
      "metadata": {
        "colab": {
          "base_uri": "https://localhost:8080/"
        },
        "id": "bgfhzQ4szzdP",
        "outputId": "128a5f08-b53e-499e-ee43-a8c2168049c4"
      },
      "execution_count": null,
      "outputs": [
        {
          "output_type": "stream",
          "name": "stderr",
          "text": [
            "WARNING:absl:Compiled the loaded model, but the compiled metrics have yet to be built. `model.compile_metrics` will be empty until you train or evaluate the model.\n"
          ]
        },
        {
          "output_type": "stream",
          "name": "stdout",
          "text": [
            "Colab notebook detected. To show errors in colab notebook, set debug=True in launch()\n",
            "* Running on public URL: https://67b5b4348f98d09dd7.gradio.live\n",
            "\n",
            "This share link expires in 1 week. For free permanent hosting and GPU upgrades, run `gradio deploy` from the terminal in the working directory to deploy to Hugging Face Spaces (https://huggingface.co/spaces)\n"
          ]
        },
        {
          "output_type": "display_data",
          "data": {
            "text/plain": [
              "<IPython.core.display.HTML object>"
            ],
            "text/html": [
              "<div><iframe src=\"https://67b5b4348f98d09dd7.gradio.live\" width=\"100%\" height=\"500\" allow=\"autoplay; camera; microphone; clipboard-read; clipboard-write;\" frameborder=\"0\" allowfullscreen></iframe></div>"
            ]
          },
          "metadata": {}
        },
        {
          "output_type": "execute_result",
          "data": {
            "text/plain": []
          },
          "metadata": {},
          "execution_count": 55
        }
      ]
    }
  ]
}